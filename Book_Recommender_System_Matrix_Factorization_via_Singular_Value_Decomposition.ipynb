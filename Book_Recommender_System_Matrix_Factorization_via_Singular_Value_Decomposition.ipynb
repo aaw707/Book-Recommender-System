{
  "nbformat": 4,
  "nbformat_minor": 5,
  "metadata": {
    "hide_input": false,
    "kernelspec": {
      "display_name": "Python 3",
      "language": "python",
      "name": "python3"
    },
    "language_info": {
      "codemirror_mode": {
        "name": "ipython",
        "version": 3
      },
      "file_extension": ".py",
      "mimetype": "text/x-python",
      "name": "python",
      "nbconvert_exporter": "python",
      "pygments_lexer": "ipython3",
      "version": "3.9.0"
    },
    "toc": {
      "base_numbering": 1,
      "nav_menu": {},
      "number_sections": false,
      "sideBar": true,
      "skip_h1_title": false,
      "title_cell": "Table of Contents",
      "title_sidebar": "Contents",
      "toc_cell": false,
      "toc_position": {},
      "toc_section_display": true,
      "toc_window_display": false
    },
    "varInspector": {
      "cols": {
        "lenName": 16,
        "lenType": 16,
        "lenVar": 40
      },
      "kernels_config": {
        "python": {
          "delete_cmd_postfix": "",
          "delete_cmd_prefix": "del ",
          "library": "var_list.py",
          "varRefreshCmd": "print(var_dic_list())"
        },
        "r": {
          "delete_cmd_postfix": ") ",
          "delete_cmd_prefix": "rm(",
          "library": "var_list.r",
          "varRefreshCmd": "cat(var_dic_list()) "
        }
      },
      "types_to_exclude": [
        "module",
        "function",
        "builtin_function_or_method",
        "instance",
        "_Feature"
      ],
      "window_display": false
    },
    "colab": {
      "name": "Book Recommender System: Matrix Factorization via Singular Value Decomposition.ipynb",
      "provenance": [],
      "collapsed_sections": []
    }
  },
  "cells": [
    {
      "cell_type": "markdown",
      "metadata": {
        "id": "SGC4LV9d_ylx"
      },
      "source": [
        "# Book Recommender System: Matrix Factorization via Singular Value Decomposition\n",
        "\n",
        "Angel Wang\n",
        "\n",
        "07/18/2021\n",
        "\n",
        "BrainStation - Capstone Project "
      ],
      "id": "SGC4LV9d_ylx"
    },
    {
      "cell_type": "markdown",
      "metadata": {
        "id": "2Jir3HKEp3wZ"
      },
      "source": [
        "# Introduction"
      ],
      "id": "2Jir3HKEp3wZ"
    },
    {
      "cell_type": "markdown",
      "metadata": {
        "id": "vHGL2PWLBATw"
      },
      "source": [
        "## Background\n",
        "\n",
        "Nowadays services like Netflix, Youtube, and Amazon knows our preferences - they use very well-designed systems to recommend tailored items targeting each individual. \n",
        "\n",
        "There are two types of commonly used approaches:\n",
        "\n",
        "* Content-based filtering system\n",
        "* Collaborative filtering system"
      ],
      "id": "vHGL2PWLBATw"
    },
    {
      "cell_type": "markdown",
      "metadata": {
        "id": "LLckvDKZ628J"
      },
      "source": [
        "**Content-based filtering system**\n",
        "\n",
        "Content-base filtering system tries to conclude the features of items that each user reacts positively to. For example, the genre of books, the starring of movies, etc. \n",
        "\n",
        "During recommendation, the similarity metrics are calculated from the item's feature vectors and the user's preferred feature vectors from historical records. The top items are then recommended.\n",
        "\n",
        "Content-based filtering doesn't require other users' data when making recommendations to one user."
      ],
      "id": "LLckvDKZ628J"
    },
    {
      "cell_type": "markdown",
      "metadata": {
        "id": "Mw42OgLh71TK"
      },
      "source": [
        "**Collaborative filtering system**\n",
        "\n",
        "Collaborative filtering system doesn't need any demographic data for the user or the item. Every user and item is described by a feature vector or embedding.\n",
        "\n",
        "It vectorize each user by their feedback on various items, find the users that have similar taste, and recommend items that people behave like you would like. \n",
        "\n",
        "The user feedbacks usually come from two sources:\n",
        "* Implicit Feedback: the user's likes and dislikes are noted and recorded on actions like clicks, searches, and purchases.\n",
        "* Explicit Feedback: the user articulate likes and dislikes by reacting or rating the items.\n",
        "\n"
      ],
      "id": "Mw42OgLh71TK"
    },
    {
      "cell_type": "markdown",
      "metadata": {
        "id": "d2tmDJMS-K60"
      },
      "source": [
        "There are 2 main types of collaborative recommender systems:\n",
        "\n",
        "**Memory-based collaborative filtering**\n",
        "\n",
        "Done mainly remembering the user_item interaction matrix, and how a user reacts to it. There's no dimensionality reduction or model fitting as such.\n",
        "\n",
        "* **User-user filtering**: if user A's characteristics are similar to user B, then the products B liked are recommended to A.\n",
        "> \"People who like products similar to you also liked these...\"\n",
        "\n",
        "* **Item-item filtering**: if user A likes item X, then items Y and Z which are similar to X in property will be recommended to user A. \"\n",
        "> Because you liked this, you may also like those...\"\n",
        "\n",
        "**Model-based collaborative filtering**\n",
        "\n",
        "From the matrix, how a specific user or an item behaves is learned. The large interaction matrix is compressed and machine learning models are fit to predict potential ratings.\n",
        "\n",
        "* **Clustering algorithms**: use simple clustering algorithms like KNN to find the K nearest neighbors given a user or an item based on the similarity metrics used.\n",
        "\n",
        "* **Matrix Factorization based algorithm**: the interaction matrix can be factorized into two smaller matrices, and they can be used to generate back the interaction matrix to predict the unknown values. \n",
        "\n",
        "* **Deep Learning methods**: to learn a non-linear function rather than a linear one and in doing so hopefully increase the expressiveness of the final model."
      ],
      "id": "d2tmDJMS-K60"
    },
    {
      "cell_type": "markdown",
      "metadata": {
        "id": "PJ-kCWOxBEsd"
      },
      "source": [
        "## This Project"
      ],
      "id": "PJ-kCWOxBEsd"
    },
    {
      "cell_type": "markdown",
      "metadata": {
        "id": "kyt4mLFUBJV1"
      },
      "source": [
        "This project builds a book recommender system using Matrix Factorization in Collaborative filtering, with Singular Value Decomposition for dimensionality reduction. The details of this algorithm will be explained in following sections. \n",
        "\n",
        "The training data is collected from www.goodreads.com. The analytical steps include EDA, visualization, data cleaning, building the model using `surprise` package, calculate errors and compare with the base rate, single and multiple hyperparameter tuning, and model evaluation.\n",
        "\n",
        "The recommender system can predict which books users might enjoy reading based on their past ratings. It can also make recommendations for new users who haven't rated yet.\n",
        "\n",
        "The purpose of this project is to help readers find books that might make a positive impact on them, and to encourage people spend more time reading."
      ],
      "id": "kyt4mLFUBJV1"
    },
    {
      "cell_type": "markdown",
      "metadata": {
        "id": "Rv6xktqvqHN8"
      },
      "source": [
        "# Source of Data"
      ],
      "id": "Rv6xktqvqHN8"
    },
    {
      "cell_type": "markdown",
      "metadata": {
        "id": "x8Qgub9KqKld"
      },
      "source": [
        "## Description\n",
        "\n",
        "The data used in this project were collected in late 2017 from www.goodreads.com. All data was scraped from users' public shelves, which means everyone can see these information on web without login. User IDs and review IDs are anonymized.\n",
        "\n",
        "There are 3 groups of data collected:\n",
        "\n",
        "* **meta-data of the books**: detailed meta-data of books, including title, isbn, publisher, popular shelves, etc; records on authors, works, series.\n",
        "\n",
        "* **user-book interactions**: including review records with user id, book id, review id, rating, timestamps, etc.\n",
        "\n",
        "* **user's detailed book reviews**: including the user id, book id, detailed review text, number of votes and comments, etc.\n",
        "\n",
        "The datasets are downloaded from a public collection of recommender system datasets posted by the lab of Julian McAuley, UCSD: https://cseweb.ucsd.edu/~jmcauley/datasets.html#goodreads"
      ],
      "id": "x8Qgub9KqKld"
    },
    {
      "cell_type": "markdown",
      "metadata": {
        "id": "MgPSLIeCqsyh"
      },
      "source": [
        "## Data Selected\n",
        "\n",
        "Since the full datasets contain 2,360,655 books and 876,145 users and add up to hundreds of GB, this project only uses 2 datasets from the `Poetry` genre to limit extensive calculation.\n",
        "\n",
        "The datasets are in compressed `json` format.\n",
        "\n",
        "**goodreads_books_young_adult.json.gz** (93,398 books)\n",
        "\n",
        "https://drive.google.com/uc?id=1gH7dG4yQzZykTpbHYsrw2nFknjUm0Mol\n",
        "\n",
        "**goodreads_interactions_young_adult.json.gz** (34,919,254 interactions)\n",
        "\n",
        "https://drive.google.com/uc?id=1NNX7SWcKahezLFNyiW88QFPAqOAYP5qg"
      ],
      "id": "MgPSLIeCqsyh"
    },
    {
      "cell_type": "markdown",
      "metadata": {
        "id": "NFM7PJK9q73V"
      },
      "source": [
        "## Citation\n",
        "\n",
        "Mengting Wan, Julian McAuley, \"Item Recommendation on Monotonic Behavior Chains\", in *RecSys'18*.\n",
        "\n",
        "Mengting Wan, Rishabh Misra, Ndapa Nakashole, Julian McAuley, \"Fine-Grained Spoiler Detection from Large-Scale Review Corpora\", *in ACL'19*."
      ],
      "id": "NFM7PJK9q73V"
    },
    {
      "cell_type": "markdown",
      "metadata": {
        "id": "IAPGwf6iqVfV"
      },
      "source": [
        "# Preprocessing"
      ],
      "id": "IAPGwf6iqVfV"
    },
    {
      "cell_type": "markdown",
      "metadata": {
        "id": "kT7OC7khp3r3"
      },
      "source": [
        "## Import the data"
      ],
      "id": "kT7OC7khp3r3"
    },
    {
      "cell_type": "code",
      "metadata": {
        "id": "f0d8f459"
      },
      "source": [
        "# import basic libraries\n",
        "import pandas as pd\n",
        "import numpy as np\n",
        "import matplotlib.pyplot as plt"
      ],
      "id": "f0d8f459",
      "execution_count": 1,
      "outputs": []
    },
    {
      "cell_type": "markdown",
      "metadata": {
        "id": "nv8E3_JRGOZE"
      },
      "source": [
        "This notebook was written in Google Colab, and the datasets were directly imported from google drive links.\n",
        "\n",
        "If you need help importing data into Google Colab, please visit: https://stackoverflow.com/questions/46986398/import-data-into-google-colaboratory"
      ],
      "id": "nv8E3_JRGOZE"
    },
    {
      "cell_type": "code",
      "metadata": {
        "colab": {
          "base_uri": "https://localhost:8080/"
        },
        "id": "io-rfElG4G1a",
        "outputId": "c9796a6d-af4e-4d8d-d948-4b567bd6b75d"
      },
      "source": [
        "# set up the connection between this notebook and the google drive\n",
        "from google.colab import drive\n",
        "drive.mount('/content/drive')"
      ],
      "id": "io-rfElG4G1a",
      "execution_count": 2,
      "outputs": [
        {
          "output_type": "stream",
          "text": [
            "Mounted at /content/drive\n"
          ],
          "name": "stdout"
        }
      ]
    },
    {
      "cell_type": "code",
      "metadata": {
        "id": "WnMNs_EQ7mOX"
      },
      "source": [
        "# load the datasets\n",
        "Interactions = pd.read_json('/content/drive/MyDrive/BrainStation Capstone/goodreads_interactions_poetry.json.gz', lines = True)\n",
        "Books = pd.read_json('/content/drive/MyDrive/BrainStation Capstone/goodreads_books_poetry.json.gz', lines=True)"
      ],
      "id": "WnMNs_EQ7mOX",
      "execution_count": 3,
      "outputs": []
    },
    {
      "cell_type": "markdown",
      "metadata": {
        "id": "V0L5D2Q_GScE"
      },
      "source": [
        "If you need to run the notebook from a local machine, please download the datasets to the same directory as this notebook, and uncomment and run the next cell."
      ],
      "id": "V0L5D2Q_GScE"
    },
    {
      "cell_type": "code",
      "metadata": {
        "id": "ILaSasI7Gf1K"
      },
      "source": [
        "# Interactions = pd.read_json('goodreads_interactions_poetry.json.gz', lines = True)\n",
        "# Books = pd.read_json('goodreads_books_poetry.json.gz', lines = True)"
      ],
      "id": "ILaSasI7Gf1K",
      "execution_count": null,
      "outputs": []
    },
    {
      "cell_type": "markdown",
      "metadata": {
        "id": "TdqqNGS8sbAk"
      },
      "source": [
        "## Basic Examination\n",
        "\n",
        "In this part we take a look at the loaded datasets, and check some basic features."
      ],
      "id": "TdqqNGS8sbAk"
    },
    {
      "cell_type": "code",
      "metadata": {
        "colab": {
          "base_uri": "https://localhost:8080/"
        },
        "id": "be5f4d45",
        "outputId": "ffd42de9-732e-42a2-94e1-c921fbb6b643"
      },
      "source": [
        "# shape of Interactions\n",
        "print(f'Interactions have {Interactions.shape[0]} rows and {Interactions.shape[1]} columns')"
      ],
      "id": "be5f4d45",
      "execution_count": 4,
      "outputs": [
        {
          "output_type": "stream",
          "text": [
            "Interactions have 2734350 rows and 10 columns\n"
          ],
          "name": "stdout"
        }
      ]
    },
    {
      "cell_type": "code",
      "metadata": {
        "colab": {
          "base_uri": "https://localhost:8080/",
          "height": 192
        },
        "id": "Z1smZyUk5L3G",
        "outputId": "2cfda0c4-a94e-43c0-ea10-f7f26f85bdce"
      },
      "source": [
        "# check the first interactions\n",
        "Interactions.head(3)"
      ],
      "id": "Z1smZyUk5L3G",
      "execution_count": null,
      "outputs": [
        {
          "output_type": "execute_result",
          "data": {
            "text/html": [
              "<div>\n",
              "<style scoped>\n",
              "    .dataframe tbody tr th:only-of-type {\n",
              "        vertical-align: middle;\n",
              "    }\n",
              "\n",
              "    .dataframe tbody tr th {\n",
              "        vertical-align: top;\n",
              "    }\n",
              "\n",
              "    .dataframe thead th {\n",
              "        text-align: right;\n",
              "    }\n",
              "</style>\n",
              "<table border=\"1\" class=\"dataframe\">\n",
              "  <thead>\n",
              "    <tr style=\"text-align: right;\">\n",
              "      <th></th>\n",
              "      <th>user_id</th>\n",
              "      <th>book_id</th>\n",
              "      <th>review_id</th>\n",
              "      <th>is_read</th>\n",
              "      <th>rating</th>\n",
              "      <th>review_text_incomplete</th>\n",
              "      <th>date_added</th>\n",
              "      <th>date_updated</th>\n",
              "      <th>read_at</th>\n",
              "      <th>started_at</th>\n",
              "    </tr>\n",
              "  </thead>\n",
              "  <tbody>\n",
              "    <tr>\n",
              "      <th>0</th>\n",
              "      <td>8842281e1d1347389f2ab93d60773d4d</td>\n",
              "      <td>1384</td>\n",
              "      <td>1bad0122cebb4aa9213f9fe1aa281f66</td>\n",
              "      <td>True</td>\n",
              "      <td>4</td>\n",
              "      <td></td>\n",
              "      <td>Wed May 09 09:33:44 -0700 2007</td>\n",
              "      <td>Wed May 09 09:33:44 -0700 2007</td>\n",
              "      <td></td>\n",
              "      <td></td>\n",
              "    </tr>\n",
              "    <tr>\n",
              "      <th>1</th>\n",
              "      <td>8842281e1d1347389f2ab93d60773d4d</td>\n",
              "      <td>1376</td>\n",
              "      <td>eb6e502d0c04d57b43a5a02c21b64ab4</td>\n",
              "      <td>True</td>\n",
              "      <td>4</td>\n",
              "      <td></td>\n",
              "      <td>Wed May 09 09:33:18 -0700 2007</td>\n",
              "      <td>Wed May 09 09:33:18 -0700 2007</td>\n",
              "      <td></td>\n",
              "      <td></td>\n",
              "    </tr>\n",
              "    <tr>\n",
              "      <th>2</th>\n",
              "      <td>8842281e1d1347389f2ab93d60773d4d</td>\n",
              "      <td>30119</td>\n",
              "      <td>787564bef16cb1f43e0f641ab59d25b7</td>\n",
              "      <td>True</td>\n",
              "      <td>5</td>\n",
              "      <td></td>\n",
              "      <td>Sat Jan 13 13:44:20 -0800 2007</td>\n",
              "      <td>Wed Mar 22 11:45:08 -0700 2017</td>\n",
              "      <td>Tue Mar 01 00:00:00 -0800 1983</td>\n",
              "      <td></td>\n",
              "    </tr>\n",
              "  </tbody>\n",
              "</table>\n",
              "</div>"
            ],
            "text/plain": [
              "                            user_id  ...  started_at\n",
              "0  8842281e1d1347389f2ab93d60773d4d  ...            \n",
              "1  8842281e1d1347389f2ab93d60773d4d  ...            \n",
              "2  8842281e1d1347389f2ab93d60773d4d  ...            \n",
              "\n",
              "[3 rows x 10 columns]"
            ]
          },
          "metadata": {
            "tags": []
          },
          "execution_count": 5
        }
      ]
    },
    {
      "cell_type": "code",
      "metadata": {
        "colab": {
          "base_uri": "https://localhost:8080/"
        },
        "id": "-VDw-vIA76bA",
        "outputId": "601227f3-38e5-45f3-8fba-53b1fc52361a"
      },
      "source": [
        "# column names of Interactions\n",
        "Interactions.columns"
      ],
      "id": "-VDw-vIA76bA",
      "execution_count": null,
      "outputs": [
        {
          "output_type": "execute_result",
          "data": {
            "text/plain": [
              "Index(['user_id', 'book_id', 'review_id', 'is_read', 'rating',\n",
              "       'review_text_incomplete', 'date_added', 'date_updated', 'read_at',\n",
              "       'started_at'],\n",
              "      dtype='object')"
            ]
          },
          "metadata": {
            "tags": []
          },
          "execution_count": 6
        }
      ]
    },
    {
      "cell_type": "code",
      "metadata": {
        "colab": {
          "base_uri": "https://localhost:8080/"
        },
        "id": "31141374",
        "outputId": "b9eaff64-58fa-4b0c-a95e-de07442b91aa"
      },
      "source": [
        "# shape of Books\n",
        "print(f'Books have {Books.shape[0]} rows and {Books.shape[1]} columns')"
      ],
      "id": "31141374",
      "execution_count": null,
      "outputs": [
        {
          "output_type": "stream",
          "text": [
            "Books have 36514 rows and 29 columns\n"
          ],
          "name": "stdout"
        }
      ]
    },
    {
      "cell_type": "code",
      "metadata": {
        "colab": {
          "base_uri": "https://localhost:8080/",
          "height": 329
        },
        "id": "UR66plS75hS8",
        "outputId": "f7f60295-e4f3-4474-ff17-e16f1d36023d"
      },
      "source": [
        "# check the first books\n",
        "Books.head(3)"
      ],
      "id": "UR66plS75hS8",
      "execution_count": null,
      "outputs": [
        {
          "output_type": "execute_result",
          "data": {
            "text/html": [
              "<div>\n",
              "<style scoped>\n",
              "    .dataframe tbody tr th:only-of-type {\n",
              "        vertical-align: middle;\n",
              "    }\n",
              "\n",
              "    .dataframe tbody tr th {\n",
              "        vertical-align: top;\n",
              "    }\n",
              "\n",
              "    .dataframe thead th {\n",
              "        text-align: right;\n",
              "    }\n",
              "</style>\n",
              "<table border=\"1\" class=\"dataframe\">\n",
              "  <thead>\n",
              "    <tr style=\"text-align: right;\">\n",
              "      <th></th>\n",
              "      <th>isbn</th>\n",
              "      <th>text_reviews_count</th>\n",
              "      <th>series</th>\n",
              "      <th>country_code</th>\n",
              "      <th>language_code</th>\n",
              "      <th>popular_shelves</th>\n",
              "      <th>asin</th>\n",
              "      <th>is_ebook</th>\n",
              "      <th>average_rating</th>\n",
              "      <th>kindle_asin</th>\n",
              "      <th>similar_books</th>\n",
              "      <th>description</th>\n",
              "      <th>format</th>\n",
              "      <th>link</th>\n",
              "      <th>authors</th>\n",
              "      <th>publisher</th>\n",
              "      <th>num_pages</th>\n",
              "      <th>publication_day</th>\n",
              "      <th>isbn13</th>\n",
              "      <th>publication_month</th>\n",
              "      <th>edition_information</th>\n",
              "      <th>publication_year</th>\n",
              "      <th>url</th>\n",
              "      <th>image_url</th>\n",
              "      <th>book_id</th>\n",
              "      <th>ratings_count</th>\n",
              "      <th>work_id</th>\n",
              "      <th>title</th>\n",
              "      <th>title_without_series</th>\n",
              "    </tr>\n",
              "  </thead>\n",
              "  <tbody>\n",
              "    <tr>\n",
              "      <th>0</th>\n",
              "      <td></td>\n",
              "      <td>1</td>\n",
              "      <td>[]</td>\n",
              "      <td>US</td>\n",
              "      <td>eng</td>\n",
              "      <td>[{'count': '8', 'name': 'to-read'}, {'count': ...</td>\n",
              "      <td></td>\n",
              "      <td>false</td>\n",
              "      <td>3.83</td>\n",
              "      <td></td>\n",
              "      <td>[]</td>\n",
              "      <td>Number 30 in a series of literary pamphlets pu...</td>\n",
              "      <td>Paperback</td>\n",
              "      <td>https://www.goodreads.com/book/show/16037549-v...</td>\n",
              "      <td>[{'author_id': '15585', 'role': ''}]</td>\n",
              "      <td>Houghton, Mifflin and Company</td>\n",
              "      <td>80</td>\n",
              "      <td>1</td>\n",
              "      <td></td>\n",
              "      <td>11</td>\n",
              "      <td></td>\n",
              "      <td>1887</td>\n",
              "      <td>https://www.goodreads.com/book/show/16037549-v...</td>\n",
              "      <td>https://images.gr-assets.com/books/1348176637m...</td>\n",
              "      <td>16037549</td>\n",
              "      <td>3</td>\n",
              "      <td>5212748</td>\n",
              "      <td>Vision of Sir Launfal and Other Poems</td>\n",
              "      <td>Vision of Sir Launfal and Other Poems</td>\n",
              "    </tr>\n",
              "    <tr>\n",
              "      <th>1</th>\n",
              "      <td>0811223981</td>\n",
              "      <td>2</td>\n",
              "      <td>[]</td>\n",
              "      <td>US</td>\n",
              "      <td></td>\n",
              "      <td>[{'count': '100', 'name': 'to-read'}, {'count'...</td>\n",
              "      <td></td>\n",
              "      <td>false</td>\n",
              "      <td>3.83</td>\n",
              "      <td>B00U2WY9U8</td>\n",
              "      <td>[]</td>\n",
              "      <td>Fairy Tales gathers the unconventional verse d...</td>\n",
              "      <td>Paperback</td>\n",
              "      <td>https://www.goodreads.com/book/show/22466716-f...</td>\n",
              "      <td>[{'author_id': '16073', 'role': ''}, {'author_...</td>\n",
              "      <td>New Directions</td>\n",
              "      <td>128</td>\n",
              "      <td>20</td>\n",
              "      <td>9780811223980</td>\n",
              "      <td>4</td>\n",
              "      <td></td>\n",
              "      <td>2015</td>\n",
              "      <td>https://www.goodreads.com/book/show/22466716-f...</td>\n",
              "      <td>https://images.gr-assets.com/books/1404958407m...</td>\n",
              "      <td>22466716</td>\n",
              "      <td>37</td>\n",
              "      <td>41905435</td>\n",
              "      <td>Fairy Tales: Dramolettes</td>\n",
              "      <td>Fairy Tales: Dramolettes</td>\n",
              "    </tr>\n",
              "    <tr>\n",
              "      <th>2</th>\n",
              "      <td>0374428115</td>\n",
              "      <td>7</td>\n",
              "      <td>[]</td>\n",
              "      <td>US</td>\n",
              "      <td></td>\n",
              "      <td>[{'count': '32', 'name': 'to-read'}, {'count':...</td>\n",
              "      <td></td>\n",
              "      <td>false</td>\n",
              "      <td>4.38</td>\n",
              "      <td></td>\n",
              "      <td>[]</td>\n",
              "      <td>Three poems describe the nighttime adventures ...</td>\n",
              "      <td>Paperback</td>\n",
              "      <td>https://www.goodreads.com/book/show/926662.Gro...</td>\n",
              "      <td>[{'author_id': '18540', 'role': ''}, {'author_...</td>\n",
              "      <td>Farrar Straus Giroux</td>\n",
              "      <td></td>\n",
              "      <td>12</td>\n",
              "      <td>9780374428112</td>\n",
              "      <td>7</td>\n",
              "      <td></td>\n",
              "      <td>2008</td>\n",
              "      <td>https://www.goodreads.com/book/show/926662.Gro...</td>\n",
              "      <td>https://s.gr-assets.com/assets/nophoto/book/11...</td>\n",
              "      <td>926662</td>\n",
              "      <td>45</td>\n",
              "      <td>911665</td>\n",
              "      <td>Growltiger's Last Stand and Other Poems</td>\n",
              "      <td>Growltiger's Last Stand and Other Poems</td>\n",
              "    </tr>\n",
              "  </tbody>\n",
              "</table>\n",
              "</div>"
            ],
            "text/plain": [
              "         isbn  ...                     title_without_series\n",
              "0              ...    Vision of Sir Launfal and Other Poems\n",
              "1  0811223981  ...                 Fairy Tales: Dramolettes\n",
              "2  0374428115  ...  Growltiger's Last Stand and Other Poems\n",
              "\n",
              "[3 rows x 29 columns]"
            ]
          },
          "metadata": {
            "tags": []
          },
          "execution_count": 8
        }
      ]
    },
    {
      "cell_type": "code",
      "metadata": {
        "colab": {
          "base_uri": "https://localhost:8080/"
        },
        "id": "2e6a31e2",
        "outputId": "6b599040-a16b-4bcd-8eaa-fe56475a714c"
      },
      "source": [
        "# column names of Books\n",
        "Books.columns"
      ],
      "id": "2e6a31e2",
      "execution_count": null,
      "outputs": [
        {
          "output_type": "execute_result",
          "data": {
            "text/plain": [
              "Index(['isbn', 'text_reviews_count', 'series', 'country_code', 'language_code',\n",
              "       'popular_shelves', 'asin', 'is_ebook', 'average_rating', 'kindle_asin',\n",
              "       'similar_books', 'description', 'format', 'link', 'authors',\n",
              "       'publisher', 'num_pages', 'publication_day', 'isbn13',\n",
              "       'publication_month', 'edition_information', 'publication_year', 'url',\n",
              "       'image_url', 'book_id', 'ratings_count', 'work_id', 'title',\n",
              "       'title_without_series'],\n",
              "      dtype='object')"
            ]
          },
          "metadata": {
            "tags": []
          },
          "execution_count": 9
        }
      ]
    },
    {
      "cell_type": "markdown",
      "metadata": {
        "id": "EutDPHOYt0Tx"
      },
      "source": [
        "## EDA\n",
        "\n",
        "The most relative distributions are the number of time each user rates, and the number of time each book is rated.\n",
        "\n",
        "Usually, in a scenario like this, there's a small amount of users rate the most frequently, while the rest of them (also the majority) rarely rate. \n",
        "\n",
        "Similarly, the most ratings would concentrate on the most popular books, while the majority of the books don't get rated as much.\n",
        "\n",
        "Before visualizing the distribution, let's create a function `find_pareto_pct` to help us find the exact percentage in this assumption."
      ],
      "id": "EutDPHOYt0Tx"
    },
    {
      "cell_type": "markdown",
      "metadata": {
        "id": "qZ21BnimxF7F"
      },
      "source": [
        "*The Pareto Principle*\n",
        "\n",
        "*80% of consequences come from 20% of the causes. The principle, which was derived from the imbalance of land ownership in Italy, is commonly used to illustrate the notion that not things are equal, and the minority owns the majority.*"
      ],
      "id": "qZ21BnimxF7F"
    },
    {
      "cell_type": "code",
      "metadata": {
        "id": "iQrcsXrxbajt"
      },
      "source": [
        "# find the percentage of a certain variable that consist of the given percentage of rows\n",
        "# e.g. find the percentage of the most active users that gave 70% of the ratings\n",
        "\n",
        "def find_pareto_pct(df, var, row_name, var_name, pct = 80):\n",
        "\n",
        "  '''\n",
        "  Parameters\n",
        "  ---\n",
        "  df: the input dataframe\n",
        "  var: the name of the column in interest, a string\n",
        "  row_name: to plug into the print statement, indicating the meaning of each row, a string\n",
        "  var_name: to plug into the print statement, indicating the meaning of var, a string\n",
        "  pct: the percentage of rows interested\n",
        "\n",
        "  Output\n",
        "  ---  \n",
        "  print statements describing the results\n",
        "  top_vars_pct: the percentage of a certain variable that consist of the given percentage of rows, a number\n",
        "\n",
        "  Example\n",
        "  ---\n",
        "  ratings_df\n",
        "  +---------+--------+---------+-----------------+\n",
        "  | user_id | rating |  title  |      link       |\n",
        "  +---------+--------+---------+-----------------+\n",
        "  |    1    |    5   | Sample1 | www.sample1.com |\n",
        "  |    2    |    5   | Sample2 | www.sample2.com |\n",
        "  |   ...   |   ...  |   ...   |      ...        |\n",
        "  +---------+--------+---------+-----------------+\n",
        "  >>>> find_pareto_pct(df = ratings_df, var = 'user_id, row_name = 'ratings', var_name = 'users', pct = 80)\n",
        "  'The dataset contains 2734350 ratings in total, given by 377799 users.'\n",
        "  '80% of the ratings (2187480) were given by the 30% most active users (112062).'\n",
        "  30\n",
        "  '''\n",
        "\n",
        "  # assert the datatype of inputs\n",
        "  assert isinstance(df, pd.DataFrame), 'df must be a pandas dataframe'\n",
        "  assert isinstance(var, str), 'var must be a string'\n",
        "  assert isinstance(row_name, str), 'row_name must be a string'\n",
        "  assert isinstance(var_name, str), 'var_name must be a string'\n",
        "  assert (isinstance(pct, (int, float))) & (0 < pct < 100), 'pct must be a number between 0 and 100'\n",
        "\n",
        "  # Distribution of number of rows each value in var contributes\n",
        "  num_rows_per_var = pd.DataFrame(df[var].value_counts())\n",
        "\n",
        "  # rename the column\n",
        "  num_rows_per_var.rename(columns = {var: 'counts'}, inplace = True)\n",
        "\n",
        "  # calculate the cumulative sum of the counts\n",
        "  num_rows_per_var['cum_sum'] = np.cumsum(num_rows_per_var['counts'])\n",
        "\n",
        "  # reset index for consecutive row numbers\n",
        "  num_rows_per_var.reset_index(inplace = True, drop = True)\n",
        "\n",
        "  # calculations\n",
        "  total_rows = df.shape[0]\n",
        "  total_vars = num_rows_per_var.shape[0]\n",
        "  top_rows = int(total_rows * pct / 100)\n",
        "  top_vars = 0\n",
        "\n",
        "  for i in range(total_vars):\n",
        "   if num_rows_per_var.loc[i]['cum_sum'] >= top_rows:\n",
        "     top_vars = i + 1\n",
        "     break\n",
        "\n",
        "  top_vars_pct = round(top_vars / total_vars * 100)\n",
        "\n",
        "  # output\n",
        "  print(f'The dataset contains {total_rows} {row_name} and {total_vars} {var_name} in total.')\n",
        "  print(f'{pct}% of the {row_name} ({top_rows}) are contributed by {top_vars_pct}% of the most active {var_name} ({top_vars}).')\n",
        "  \n",
        "  return top_vars_pct"
      ],
      "id": "iQrcsXrxbajt",
      "execution_count": 5,
      "outputs": []
    },
    {
      "cell_type": "markdown",
      "metadata": {
        "id": "KMk4Rik5xOMU"
      },
      "source": [
        "Now we can use this function to add on some insights!"
      ],
      "id": "KMk4Rik5xOMU"
    },
    {
      "cell_type": "markdown",
      "metadata": {
        "id": "sLlCmNGl2fhl"
      },
      "source": [
        "### `user_id`"
      ],
      "id": "sLlCmNGl2fhl"
    },
    {
      "cell_type": "code",
      "metadata": {
        "colab": {
          "base_uri": "https://localhost:8080/"
        },
        "id": "W_LsOr6adsPA",
        "outputId": "77c33da4-5a2e-4092-f1c5-c1be3aa4f294"
      },
      "source": [
        "find_pareto_pct(df = Interactions, var = 'user_id', row_name = 'ratings', var_name = 'users', pct = 70);"
      ],
      "id": "W_LsOr6adsPA",
      "execution_count": null,
      "outputs": [
        {
          "output_type": "stream",
          "text": [
            "The dataset contains 2734350 ratings and 377799 users in total.\n",
            "70% of the ratings (1914045) are contributed by 19% of the most active users (70947).\n"
          ],
          "name": "stdout"
        }
      ]
    },
    {
      "cell_type": "markdown",
      "metadata": {
        "id": "U6GJLf4lxa85"
      },
      "source": [
        "70% of the ratings are contributed by 19% of the most active users! Even if we visualize this distribution, it will not provide much detail since it will have an extremely long tail."
      ],
      "id": "U6GJLf4lxa85"
    },
    {
      "cell_type": "code",
      "metadata": {
        "colab": {
          "base_uri": "https://localhost:8080/"
        },
        "id": "vNyZLH_mjBpO",
        "outputId": "d51dcf12-c3c5-4261-e9a6-5a8bbb7318c4"
      },
      "source": [
        "# the number of time each user rates\n",
        "user_num_ratings = Interactions['user_id'].value_counts()\n",
        "user_num_ratings"
      ],
      "id": "vNyZLH_mjBpO",
      "execution_count": null,
      "outputs": [
        {
          "output_type": "execute_result",
          "data": {
            "text/plain": [
              "446a78a97c434dca98e7ea176ee9fa1f    2924\n",
              "adcae0c259fce6f216dd11bb973508fd    2906\n",
              "55bea8421fbd1f96790bcaa6302b5aab    2444\n",
              "f2bac05b3932fe7c68960041744e5058    2332\n",
              "0d688fe079530ee1fe6fa85eab10ec5c    2128\n",
              "                                    ... \n",
              "8ac7161c1afb960d7be3efcc8ff5c038       1\n",
              "0741b44ddea8c92c2895ac4b6b3aa27d       1\n",
              "147548f523e5be912d643fefd0975ca5       1\n",
              "52e9e43df2c728be2c1e6054d3c2ff6c       1\n",
              "ee6db2afc33a24b448377bd0c0c36105       1\n",
              "Name: user_id, Length: 377799, dtype: int64"
            ]
          },
          "metadata": {
            "tags": []
          },
          "execution_count": 12
        }
      ]
    },
    {
      "cell_type": "code",
      "metadata": {
        "colab": {
          "base_uri": "https://localhost:8080/",
          "height": 358
        },
        "id": "7Nm59IBSvXnb",
        "outputId": "cb4c24cb-5135-40c9-d3c0-83c95d5ae3b8"
      },
      "source": [
        "# plot the number of time each user rates\n",
        "plt.figure(figsize = (10, 5))\n",
        "user_num_ratings.plot(label = 'number of ratings per user')\n",
        "plt.xlabel('Users', fontsize = 12)\n",
        "plt.ylabel('Number of Ratings per User', fontsize = 12)\n",
        "plt.title('Only a Few Users Rate Frequently', fontsize = 20)\n",
        "plt.xticks(ticks = range(0, 400001, 50000), labels = range(0, 400001, 50000))\n",
        "plt.axvline(x = 70947, color = 'r', linestyle = '--', label = '19% users give 70% ratings') # number of 19% most active users from the print statement\n",
        "plt.legend()\n",
        "# plt.savefig('/content/drive/MyDrive/BrainStation Capstone/user_num_ratings.png', transparent = True)\n",
        "plt.show()"
      ],
      "id": "7Nm59IBSvXnb",
      "execution_count": null,
      "outputs": [
        {
          "output_type": "display_data",
          "data": {
            "image/png": "[encoded data removed]",
            "text/plain": [
              "<Figure size 720x360 with 1 Axes>"
            ]
          },
          "metadata": {
            "tags": [],
            "needs_background": "light"
          }
        }
      ]
    },
    {
      "cell_type": "markdown",
      "metadata": {
        "id": "hVHJ-ZrW2lsc"
      },
      "source": [
        "### `book_id`"
      ],
      "id": "hVHJ-ZrW2lsc"
    },
    {
      "cell_type": "markdown",
      "metadata": {
        "id": "OW3nzhfvyfN4"
      },
      "source": [
        "Are the books being rated similarly? Let's find out!"
      ],
      "id": "OW3nzhfvyfN4"
    },
    {
      "cell_type": "code",
      "metadata": {
        "colab": {
          "base_uri": "https://localhost:8080/"
        },
        "id": "WBwzoJdNjWHC",
        "outputId": "e6ea0d88-5d28-40d4-f9e1-2b24985307b3"
      },
      "source": [
        "find_pareto_pct(df = Interactions, var = 'book_id', row_name = 'ratings', var_name = 'books');"
      ],
      "id": "WBwzoJdNjWHC",
      "execution_count": null,
      "outputs": [
        {
          "output_type": "stream",
          "text": [
            "The dataset contains 2734350 ratings and 36514 books in total.\n",
            "80% of the ratings (2187480) are contributed by 12% of the most active books (4315).\n"
          ],
          "name": "stdout"
        }
      ]
    },
    {
      "cell_type": "markdown",
      "metadata": {
        "id": "6JXjSYnOyvt7"
      },
      "source": [
        "Even a smaller percentage is returned this time! Seems like readers tend to spend more time enjoy the classics instead of reading randomly."
      ],
      "id": "6JXjSYnOyvt7"
    },
    {
      "cell_type": "code",
      "metadata": {
        "colab": {
          "base_uri": "https://localhost:8080/"
        },
        "id": "BNBwzgyKjI2c",
        "outputId": "046066b9-d5f2-4e9e-df39-3c546a7b2512"
      },
      "source": [
        "# the number of times each book is rated\n",
        "book_num_ratings = Interactions['book_id'].value_counts()\n",
        "book_num_ratings.reset_index(inplace = True, drop = True) # book_id is numeric. reset index to adjust plotting\n",
        "book_num_ratings"
      ],
      "id": "BNBwzgyKjI2c",
      "execution_count": null,
      "outputs": [
        {
          "output_type": "execute_result",
          "data": {
            "text/plain": [
              "0        76107\n",
              "1        75306\n",
              "2        67747\n",
              "3        36606\n",
              "4        28137\n",
              "         ...  \n",
              "36509        1\n",
              "36510        1\n",
              "36511        1\n",
              "36512        1\n",
              "36513        1\n",
              "Name: book_id, Length: 36514, dtype: int64"
            ]
          },
          "metadata": {
            "tags": []
          },
          "execution_count": 15
        }
      ]
    },
    {
      "cell_type": "code",
      "metadata": {
        "colab": {
          "base_uri": "https://localhost:8080/",
          "height": 358
        },
        "id": "RkJtMcaNzVyL",
        "outputId": "8a9f45a5-b609-4987-8d70-6a3c08e0582b"
      },
      "source": [
        "# plot the number of times each book is rated\n",
        "plt.figure(figsize = (10, 5))\n",
        "book_num_ratings.plot(label = 'number of ratings per book')\n",
        "plt.xlabel('Books', fontsize = 12)\n",
        "plt.ylabel('Number of Times Each Book Is Rated', fontsize = 12)\n",
        "plt.title('Only a Few Books are Rated Frequently', fontsize = 20)\n",
        "plt.xticks(ticks = range(0, 40001, 5000), labels = range(0, 40001, 5000))\n",
        "plt.axvline(x = 4315, color = 'r', linestyle = '--', label = '12% books have 80% ratings') # number of 12% most active users from the print statement\n",
        "plt.legend()\n",
        "# plt.savefig('/content/drive/MyDrive/BrainStation Capstone/book_num_ratings.png', transparent = True)\n",
        "plt.show()"
      ],
      "id": "RkJtMcaNzVyL",
      "execution_count": null,
      "outputs": [
        {
          "output_type": "display_data",
          "data": {
            "image/png": "[encoded data removed]",
            "text/plain": [
              "<Figure size 720x360 with 1 Axes>"
            ]
          },
          "metadata": {
            "tags": [],
            "needs_background": "light"
          }
        }
      ]
    },
    {
      "cell_type": "markdown",
      "metadata": {
        "id": "FtrSZIas1uRU"
      },
      "source": [
        "Before modeling, we will filter out the users and books that don't participate in rating much, in order to increase quality of prediction."
      ],
      "id": "FtrSZIas1uRU"
    },
    {
      "cell_type": "markdown",
      "metadata": {
        "id": "WmnxdRkz2rrK"
      },
      "source": [
        "### `rating`\n",
        "\n",
        "What's the ratings scale and the distribution?"
      ],
      "id": "WmnxdRkz2rrK"
    },
    {
      "cell_type": "code",
      "metadata": {
        "colab": {
          "base_uri": "https://localhost:8080/"
        },
        "id": "0leQcDrc-B3Q",
        "outputId": "6c78c09b-7c17-4357-aea2-70689b0efbb4"
      },
      "source": [
        "# distribution of ratings\n",
        "Interactions['rating'].value_counts().sort_index()"
      ],
      "id": "0leQcDrc-B3Q",
      "execution_count": null,
      "outputs": [
        {
          "output_type": "execute_result",
          "data": {
            "text/plain": [
              "0    1505291\n",
              "1      20497\n",
              "2      64084\n",
              "3     237942\n",
              "4     405565\n",
              "5     500971\n",
              "Name: rating, dtype: int64"
            ]
          },
          "metadata": {
            "tags": []
          },
          "execution_count": 17
        }
      ]
    },
    {
      "cell_type": "code",
      "metadata": {
        "colab": {
          "base_uri": "https://localhost:8080/",
          "height": 295
        },
        "id": "J_YitHuC2vl9",
        "outputId": "068b1078-e503-4020-d5a4-1f2b44b009a7"
      },
      "source": [
        "# plot the ratings\n",
        "plt.figure()\n",
        "Interactions['rating'].value_counts().sort_index().plot(kind = 'bar')\n",
        "plt.xlabel('Rating')\n",
        "plt.xticks(rotation = 0)\n",
        "plt.ylabel('Counts')\n",
        "plt.title('Distribution of Ratings')\n",
        "plt.show()"
      ],
      "id": "J_YitHuC2vl9",
      "execution_count": 9,
      "outputs": [
        {
          "output_type": "display_data",
          "data": {
            "image/png": "[encoded data removed]",
            "text/plain": [
              "<Figure size 432x288 with 1 Axes>"
            ]
          },
          "metadata": {
            "tags": [],
            "needs_background": "light"
          }
        }
      ]
    },
    {
      "cell_type": "markdown",
      "metadata": {
        "id": "6Kc4e19q3IDd"
      },
      "source": [
        "The majority of the ratings is `0`! Does this mean most books are terrible? Or the users didn't actually rate them and `0` is the default value?"
      ],
      "id": "6Kc4e19q3IDd"
    },
    {
      "cell_type": "code",
      "metadata": {
        "colab": {
          "base_uri": "https://localhost:8080/"
        },
        "id": "PojhKtqq3dSZ",
        "outputId": "723449da-8842-454b-fc12-d636ac023e63"
      },
      "source": [
        "# check the rows with rating = 0\n",
        "zero_ratings = Interactions[Interactions['rating'] == 0][['rating', 'is_read']]\n",
        "print('Number of zero ratings:', zero_ratings.shape[0])\n",
        "\n",
        "# check the relationship between rating = 0 and is_read\n",
        "zero_ratings.groupby('is_read').count()['rating']/len(Interactions[Interactions['rating'] == 0])"
      ],
      "id": "PojhKtqq3dSZ",
      "execution_count": null,
      "outputs": [
        {
          "output_type": "stream",
          "text": [
            "Number of zero ratings: 1505291\n"
          ],
          "name": "stdout"
        },
        {
          "output_type": "execute_result",
          "data": {
            "text/plain": [
              "is_read\n",
              "False    0.943831\n",
              "True     0.056169\n",
              "Name: rating, dtype: float64"
            ]
          },
          "metadata": {
            "tags": []
          },
          "execution_count": 19
        }
      ]
    },
    {
      "cell_type": "markdown",
      "metadata": {
        "id": "HUtPlSgO5Df6"
      },
      "source": [
        "In the 1.5 million interactions where a user rates a book with 0, about 94% of them are labeled `False` for `is_read`. It's very likely that 0 is the default value for ratings.\n",
        "\n",
        "Here we confirm with the documentations from the data source:\n",
        "`'0' indicates rating score is not provided` (https://github.com/MengtingWan/goodreads/blob/master/distributions.ipynb)\n",
        "\n",
        "Note: If this information was not available, the possible next steps could be:\n",
        "* download the `Reviews` dataset available form the data source, check the content and sentiment from the reviews\n",
        "* go to goodread.com to find out the scaling range"
      ],
      "id": "HUtPlSgO5Df6"
    },
    {
      "cell_type": "markdown",
      "metadata": {
        "id": "W4xvJsKuAz0L"
      },
      "source": [
        "Since `0` means no rating score is provided, in the data cleaning steps, we will drop all zero ratings from our dataset. They will be treated the same way as empty values in matrix factorization.\n",
        "\n",
        "Here's the distribution of ratings excluding zero ratings. The number of ratings ascends with the rating scale!"
      ],
      "id": "W4xvJsKuAz0L"
    },
    {
      "cell_type": "code",
      "metadata": {
        "colab": {
          "base_uri": "https://localhost:8080/",
          "height": 295
        },
        "id": "WkUKNNgh_sqt",
        "outputId": "dc63839a-3b6c-42bc-8e32-f344a832378c"
      },
      "source": [
        "# plot the non-zero ratings \n",
        "plt.figure()\n",
        "Interactions[Interactions['rating'] != 0]['rating'].value_counts().sort_index().plot(kind = 'bar')\n",
        "plt.xlabel('Rating')\n",
        "plt.xticks(rotation = 0)\n",
        "plt.ylabel('Counts')\n",
        "plt.title('Distribution of Ratings')\n",
        "plt.show()"
      ],
      "id": "WkUKNNgh_sqt",
      "execution_count": 10,
      "outputs": [
        {
          "output_type": "display_data",
          "data": {
            "image/png": "[encoded data removed]",
            "text/plain": [
              "<Figure size 432x288 with 1 Axes>"
            ]
          },
          "metadata": {
            "tags": [],
            "needs_background": "light"
          }
        }
      ]
    },
    {
      "cell_type": "markdown",
      "metadata": {
        "id": "-RA-jsjskvI0"
      },
      "source": [
        "### Others\n",
        "\n",
        "We can also take a look at the distribution of some other variables:"
      ],
      "id": "-RA-jsjskvI0"
    },
    {
      "cell_type": "markdown",
      "metadata": {
        "id": "NOe6c3QKBxA0"
      },
      "source": [
        "Excluding empty values, 70% of the ratings are contributed by 5 most popular language codes out of 92. \n",
        "\n",
        "The top 5 language codes are: English, Arabic, Persian, English-US, Spanish."
      ],
      "id": "NOe6c3QKBxA0"
    },
    {
      "cell_type": "code",
      "metadata": {
        "colab": {
          "base_uri": "https://localhost:8080/"
        },
        "id": "RZ65RHPcYEl_",
        "outputId": "6e2483e0-77a2-4876-c5f4-54fe52549586"
      },
      "source": [
        "find_pareto_pct(df = Books[Books['language_code'] != ''], var = 'language_code', row_name = 'books', var_name = 'language codes', pct = 70);"
      ],
      "id": "RZ65RHPcYEl_",
      "execution_count": null,
      "outputs": [
        {
          "output_type": "stream",
          "text": [
            "The dataset contains 17052 books and 92 language codes in total.\n",
            "70% of the books (11936) are contributed by 5% of the most active language codes (5).\n"
          ],
          "name": "stdout"
        }
      ]
    },
    {
      "cell_type": "code",
      "metadata": {
        "colab": {
          "base_uri": "https://localhost:8080/"
        },
        "id": "jd-DvrlYBVEI",
        "outputId": "8b109cd1-28eb-4cee-87ef-6fb3db509370"
      },
      "source": [
        "# top 5 language codes\n",
        "Books[Books['language_code'] != '']['language_code'].value_counts()[:5]"
      ],
      "id": "jd-DvrlYBVEI",
      "execution_count": null,
      "outputs": [
        {
          "output_type": "execute_result",
          "data": {
            "text/plain": [
              "eng      8393\n",
              "ara      1608\n",
              "per       924\n",
              "en-US     868\n",
              "spa       837\n",
              "Name: language_code, dtype: int64"
            ]
          },
          "metadata": {
            "tags": []
          },
          "execution_count": 22
        }
      ]
    },
    {
      "cell_type": "code",
      "metadata": {
        "colab": {
          "base_uri": "https://localhost:8080/",
          "height": 295
        },
        "id": "Zyscvc9QGul_",
        "outputId": "79469c45-4504-4e3d-9632-17d84e7c3ccf"
      },
      "source": [
        "# plot the top 5 language codes\n",
        "plt.figure()\n",
        "Books[Books['language_code'] != '']['language_code'].value_counts()[:5].plot(kind = 'bar')\n",
        "plt.xlabel('Language Code')\n",
        "plt.xticks(rotation = 0)\n",
        "plt.title('English is the Most Popular Language Code')\n",
        "plt.show()"
      ],
      "id": "Zyscvc9QGul_",
      "execution_count": 12,
      "outputs": [
        {
          "output_type": "display_data",
          "data": {
            "image/png": "[encoded data removed]",
            "text/plain": [
              "<Figure size 432x288 with 1 Axes>"
            ]
          },
          "metadata": {
            "tags": [],
            "needs_background": "light"
          }
        }
      ]
    },
    {
      "cell_type": "markdown",
      "metadata": {
        "id": "8TavzxM2CMNO"
      },
      "source": [
        "Excluding empty values, the `publisher` column also obey the Pareto Principle.\n",
        "\n",
        "There doesn't seem to be a monopoly among publishers, as the top publishers all have similar contribution to the book list.\n",
        "\n",
        "The most popular 5 publishers are: W. W. Norton  Company, Farrar, Straus and Giroux, Penguin Classics, Penguin Books, New Directions."
      ],
      "id": "8TavzxM2CMNO"
    },
    {
      "cell_type": "code",
      "metadata": {
        "colab": {
          "base_uri": "https://localhost:8080/"
        },
        "id": "f0Bja1kmkfHT",
        "outputId": "e43694ef-1530-44c1-f646-0eeef8a23c93"
      },
      "source": [
        "find_pareto_pct(df = Books[Books['publisher'] != ''], var = 'publisher', row_name = 'books', var_name = 'publishers');"
      ],
      "id": "f0Bja1kmkfHT",
      "execution_count": null,
      "outputs": [
        {
          "output_type": "stream",
          "text": [
            "The dataset contains 30481 books and 8185 publishers in total.\n",
            "80% of the books (24384) are contributed by 30% of the most active publishers (2476).\n"
          ],
          "name": "stdout"
        }
      ]
    },
    {
      "cell_type": "code",
      "metadata": {
        "colab": {
          "base_uri": "https://localhost:8080/"
        },
        "id": "FPlERR17CRcj",
        "outputId": "b45fb7f2-4edf-463e-851e-fc90069a6df6"
      },
      "source": [
        "# top 5 publishers\n",
        "Books[Books['publisher'] != '']['publisher'].value_counts()[:5]"
      ],
      "id": "FPlERR17CRcj",
      "execution_count": null,
      "outputs": [
        {
          "output_type": "execute_result",
          "data": {
            "text/plain": [
              "W. W. Norton  Company        320\n",
              "Farrar, Straus and Giroux    305\n",
              "Penguin Classics             302\n",
              "Penguin Books                291\n",
              "New Directions               261\n",
              "Name: publisher, dtype: int64"
            ]
          },
          "metadata": {
            "tags": []
          },
          "execution_count": 88
        }
      ]
    },
    {
      "cell_type": "code",
      "metadata": {
        "colab": {
          "base_uri": "https://localhost:8080/",
          "height": 357
        },
        "id": "DbfYsXJAHDnn",
        "outputId": "94777f45-1155-4266-b1c9-8ebec35878ee"
      },
      "source": [
        "plt.figure()\n",
        "Books[Books['publisher'] != '']['publisher'].value_counts()[:5].plot(kind = 'bar')\n",
        "plt.xlabel('Publishers')\n",
        "plt.ylabel('Frequency')\n",
        "plt.xticks(rotation = 30)\n",
        "plt.title('Tope 5 Publishers')\n",
        "plt.show()"
      ],
      "id": "DbfYsXJAHDnn",
      "execution_count": 18,
      "outputs": [
        {
          "output_type": "display_data",
          "data": {
            "image/png": "[encoded data removed]",
            "text/plain": [
              "<Figure size 432x288 with 1 Axes>"
            ]
          },
          "metadata": {
            "tags": [],
            "needs_background": "light"
          }
        }
      ]
    },
    {
      "cell_type": "markdown",
      "metadata": {
        "id": "V-XAI_s6mHi2"
      },
      "source": [
        "Excluding empty values, 80% of the books have less than 194 pages."
      ],
      "id": "V-XAI_s6mHi2"
    },
    {
      "cell_type": "code",
      "metadata": {
        "colab": {
          "base_uri": "https://localhost:8080/"
        },
        "id": "mhFrORM5EC8U",
        "outputId": "d21ce00c-d80c-4a69-f617-e8867c27ddd8"
      },
      "source": [
        "find_pareto_pct(df = Books[Books['num_pages'] != ''], var = 'num_pages', row_name = 'books', var_name = 'lengths (number of pages)');"
      ],
      "id": "mhFrORM5EC8U",
      "execution_count": null,
      "outputs": [
        {
          "output_type": "stream",
          "text": [
            "The dataset contains 29009 books and 1058 lengths (number of pages) in total.\n",
            "80% of the books (23207) are contributed by 18% of the most active lengths (number of pages) (194).\n"
          ],
          "name": "stdout"
        }
      ]
    },
    {
      "cell_type": "code",
      "metadata": {
        "colab": {
          "base_uri": "https://localhost:8080/",
          "height": 295
        },
        "id": "-PNWIEhTC2e8",
        "outputId": "3b401f51-4c39-457f-85df-e5353b52d16f"
      },
      "source": [
        "# distribution of number of pages, excluding missing values\n",
        "# convert datatype to int for plotting\n",
        "plt.figure()\n",
        "Books[Books['num_pages'] != '']['num_pages'].astype(int).plot(kind = 'hist', bins = 100)\n",
        "plt.xlabel('Number of Pages')\n",
        "plt.xlim(left = 0, right = 2000)\n",
        "plt.title('80% Books Have Less than 194 Pages')\n",
        "plt.show()"
      ],
      "id": "-PNWIEhTC2e8",
      "execution_count": null,
      "outputs": [
        {
          "output_type": "display_data",
          "data": {
            "image/png": "[encoded data removed]",
            "text/plain": [
              "<Figure size 432x288 with 1 Axes>"
            ]
          },
          "metadata": {
            "tags": [],
            "needs_background": "light"
          }
        }
      ]
    },
    {
      "cell_type": "markdown",
      "metadata": {
        "id": "oam-6eTzlmMa"
      },
      "source": [
        "Have there been more interactions (ratings/reviews) over the years? We can count the number of reviews added by users per day from `date_added` column in `Interactions`."
      ],
      "id": "oam-6eTzlmMa"
    },
    {
      "cell_type": "code",
      "metadata": {
        "colab": {
          "base_uri": "https://localhost:8080/"
        },
        "id": "siiZZBsZWRrQ",
        "outputId": "c26fcc65-0d4a-456a-ebd8-55c57d5b8d34"
      },
      "source": [
        "# reformat the review date\n",
        "from datetime import datetime\n",
        "review_date = Interactions['date_added'].copy()\n",
        "review_date = review_date.apply(lambda x: datetime.strptime(x, '%a %b %d %H:%M:%S %z %Y').strftime(\"%Y-%m-%d\"))\n",
        "review_date"
      ],
      "id": "siiZZBsZWRrQ",
      "execution_count": 19,
      "outputs": [
        {
          "output_type": "execute_result",
          "data": {
            "text/plain": [
              "0          2007-05-09\n",
              "1          2007-05-09\n",
              "2          2007-01-13\n",
              "3          2016-04-27\n",
              "4          2012-06-04\n",
              "              ...    \n",
              "2734345    2013-05-23\n",
              "2734346    2013-04-28\n",
              "2734347    2013-04-28\n",
              "2734348    2013-04-21\n",
              "2734349    2013-04-20\n",
              "Name: date_added, Length: 2734350, dtype: object"
            ]
          },
          "metadata": {
            "tags": []
          },
          "execution_count": 19
        }
      ]
    },
    {
      "cell_type": "code",
      "metadata": {
        "colab": {
          "base_uri": "https://localhost:8080/"
        },
        "id": "uhsFRprUdFWQ",
        "outputId": "15a03ee2-b75e-45bf-99e1-486bf31fa847"
      },
      "source": [
        "# counts of reviews per day\n",
        "review_counts = review_date.value_counts().sort_index()\n",
        "review_counts"
      ],
      "id": "uhsFRprUdFWQ",
      "execution_count": 20,
      "outputs": [
        {
          "output_type": "execute_result",
          "data": {
            "text/plain": [
              "2001-02-13      1\n",
              "2001-06-13      2\n",
              "2001-10-08     18\n",
              "2001-11-11      1\n",
              "2002-03-12      1\n",
              "             ... \n",
              "2017-10-30    126\n",
              "2017-10-31    176\n",
              "2017-11-01    120\n",
              "2017-11-02     90\n",
              "2017-11-03     92\n",
              "Name: date_added, Length: 3978, dtype: int64"
            ]
          },
          "metadata": {
            "tags": []
          },
          "execution_count": 20
        }
      ]
    },
    {
      "cell_type": "code",
      "metadata": {
        "colab": {
          "base_uri": "https://localhost:8080/",
          "height": 404
        },
        "id": "jmQtK-FmfFGa",
        "outputId": "23095683-b4b1-4cc2-fc9b-80680cee4572"
      },
      "source": [
        "# plot the reviews per day over the years\n",
        "plt.figure(figsize = (10, 6))\n",
        "review_counts.plot()\n",
        "plt.xlabel('Date')\n",
        "plt.ylabel('Daily Reviews')\n",
        "plt.title('Growing Number of Reviews over the Years')\n",
        "plt.show()"
      ],
      "id": "jmQtK-FmfFGa",
      "execution_count": 21,
      "outputs": [
        {
          "output_type": "display_data",
          "data": {
            "image/png": "[encoded data removed]",
            "text/plain": [
              "<Figure size 720x432 with 1 Axes>"
            ]
          },
          "metadata": {
            "tags": [],
            "needs_background": "light"
          }
        }
      ]
    },
    {
      "cell_type": "markdown",
      "metadata": {
        "id": "6Zv_mP5lgCQ_"
      },
      "source": [
        "There's an overall growth of interactions from 2001 to 2017. \n",
        "\n",
        "We can also see there's roughly a yearly pattern from 2013 to 2017. Let's zoom in on that."
      ],
      "id": "6Zv_mP5lgCQ_"
    },
    {
      "cell_type": "code",
      "metadata": {
        "colab": {
          "base_uri": "https://localhost:8080/"
        },
        "id": "dFJrS-7CjlfO",
        "outputId": "6823e3a1-42b9-4f22-d467-764e71a25c12"
      },
      "source": [
        "# filter the records for 2013-2017\n",
        "review_counts = review_counts['2013-01-01':]\n",
        "review_counts"
      ],
      "id": "dFJrS-7CjlfO",
      "execution_count": null,
      "outputs": [
        {
          "output_type": "execute_result",
          "data": {
            "text/plain": [
              "2013-01-01    1337\n",
              "2013-01-02    1386\n",
              "2013-01-03    1488\n",
              "2013-01-04    1399\n",
              "2013-01-05    1641\n",
              "              ... \n",
              "2017-10-30     126\n",
              "2017-10-31     176\n",
              "2017-11-01     120\n",
              "2017-11-02      90\n",
              "2017-11-03      92\n",
              "Name: date_added, Length: 1768, dtype: int64"
            ]
          },
          "metadata": {
            "tags": []
          },
          "execution_count": 32
        }
      ]
    },
    {
      "cell_type": "code",
      "metadata": {
        "colab": {
          "base_uri": "https://localhost:8080/"
        },
        "id": "Jo3JAKlvkeCo",
        "outputId": "a8987b05-f1c1-410e-ca23-5f15e68411da"
      },
      "source": [
        "# fill the dates between 2013-01-01 and 2017-12-31 for plotting consistency\n",
        "\n",
        "# set the target indices with date range\n",
        "idx = pd.date_range('2013-01-01', '2017-12-31')\n",
        "\n",
        "# convert the index from strings to datetimes\n",
        "review_counts.index = pd.DatetimeIndex(review_counts.index)\n",
        "\n",
        "# fill the series with missing dates\n",
        "review_counts = review_counts.reindex(idx, fill_value = 0)\n",
        "\n",
        "review_counts"
      ],
      "id": "Jo3JAKlvkeCo",
      "execution_count": null,
      "outputs": [
        {
          "output_type": "execute_result",
          "data": {
            "text/plain": [
              "2013-01-01    1337\n",
              "2013-01-02    1386\n",
              "2013-01-03    1488\n",
              "2013-01-04    1399\n",
              "2013-01-05    1641\n",
              "              ... \n",
              "2017-12-27       0\n",
              "2017-12-28       0\n",
              "2017-12-29       0\n",
              "2017-12-30       0\n",
              "2017-12-31       0\n",
              "Freq: D, Name: date_added, Length: 1826, dtype: int64"
            ]
          },
          "metadata": {
            "tags": []
          },
          "execution_count": 33
        }
      ]
    },
    {
      "cell_type": "code",
      "metadata": {
        "colab": {
          "base_uri": "https://localhost:8080/",
          "height": 404
        },
        "id": "S1wYBSi1i_Xj",
        "outputId": "f57a5719-ffc1-49c2-d15a-344a8bab6966"
      },
      "source": [
        "# plot the daily review counts during 2013-2017\n",
        "plt.figure(figsize = (10, 6))\n",
        "review_counts.plot()\n",
        "plt.xlabel('Year')\n",
        "plt.ylabel('Daily Review Counts')\n",
        "plt.title('Spiking Review Counts at the Beginning of Years during 2013-2017')\n",
        "plt.show()"
      ],
      "id": "S1wYBSi1i_Xj",
      "execution_count": null,
      "outputs": [
        {
          "output_type": "display_data",
          "data": {
            "image/png": "[encoded data removed]",
            "text/plain": [
              "<Figure size 720x432 with 1 Axes>"
            ]
          },
          "metadata": {
            "tags": [],
            "needs_background": "light"
          }
        }
      ]
    },
    {
      "cell_type": "markdown",
      "metadata": {
        "id": "kPIo73C4nUQa"
      },
      "source": [
        "Looks like the number of interactions is specifically higher around the beginning of every year. Maybe that's when people have finished reading the books they received as Christmas gifts!"
      ],
      "id": "kPIo73C4nUQa"
    },
    {
      "cell_type": "markdown",
      "metadata": {
        "id": "3CfpHCTrt3ru"
      },
      "source": [
        "## Data Cleaning"
      ],
      "id": "3CfpHCTrt3ru"
    },
    {
      "cell_type": "markdown",
      "metadata": {
        "id": "TJoYe3MKue1k"
      },
      "source": [
        "### Remove columns (Feature Selection)\n",
        "\n",
        "To build a recommender system using matrix factorization, we need the unique identifier of books and users, and the ratings. \n",
        "\n",
        "We will use `user_id`, `book_id`, and `rating` from `Interactions` to build our recommender system. The corresponding information like `title` and `link` from `Books` will also be included to in the list of recommended books."
      ],
      "id": "TJoYe3MKue1k"
    },
    {
      "cell_type": "code",
      "metadata": {
        "id": "778e399e"
      },
      "source": [
        "# only keep the columns we need\n",
        "Interactions = Interactions[['user_id', 'book_id', 'rating']]\n",
        "Books = Books[['book_id', 'title', 'link']]"
      ],
      "id": "778e399e",
      "execution_count": 25,
      "outputs": []
    },
    {
      "cell_type": "code",
      "metadata": {
        "id": "7VTEEpErhxNh"
      },
      "source": [
        "# convert the datatype of book_id from int to string\n",
        "Interactions['book_id'] = Interactions['book_id'].astype('string')\n",
        "Books['book_id'] = Books['book_id'].astype('string')"
      ],
      "id": "7VTEEpErhxNh",
      "execution_count": 26,
      "outputs": []
    },
    {
      "cell_type": "markdown",
      "metadata": {
        "id": "kEWX45He8Lqh"
      },
      "source": [
        "Merge these two dataframes into one:"
      ],
      "id": "kEWX45He8Lqh"
    },
    {
      "cell_type": "code",
      "metadata": {
        "id": "afe5261f"
      },
      "source": [
        "# merge Interactions and Books\n",
        "df = pd.merge(Interactions, \n",
        "              Books, \n",
        "              left_on = 'book_id',\n",
        "              right_on = 'book_id',\n",
        "              how = 'left')"
      ],
      "id": "afe5261f",
      "execution_count": 27,
      "outputs": []
    },
    {
      "cell_type": "code",
      "metadata": {
        "colab": {
          "base_uri": "https://localhost:8080/",
          "height": 110
        },
        "id": "0ca5dcf6",
        "outputId": "27c8a97c-8c17-496c-91b9-e82c849eab82"
      },
      "source": [
        "# examine the merged df\n",
        "df.head(2)"
      ],
      "id": "0ca5dcf6",
      "execution_count": null,
      "outputs": [
        {
          "output_type": "execute_result",
          "data": {
            "text/html": [
              "<div>\n",
              "<style scoped>\n",
              "    .dataframe tbody tr th:only-of-type {\n",
              "        vertical-align: middle;\n",
              "    }\n",
              "\n",
              "    .dataframe tbody tr th {\n",
              "        vertical-align: top;\n",
              "    }\n",
              "\n",
              "    .dataframe thead th {\n",
              "        text-align: right;\n",
              "    }\n",
              "</style>\n",
              "<table border=\"1\" class=\"dataframe\">\n",
              "  <thead>\n",
              "    <tr style=\"text-align: right;\">\n",
              "      <th></th>\n",
              "      <th>user_id</th>\n",
              "      <th>book_id</th>\n",
              "      <th>rating</th>\n",
              "      <th>title</th>\n",
              "      <th>link</th>\n",
              "    </tr>\n",
              "  </thead>\n",
              "  <tbody>\n",
              "    <tr>\n",
              "      <th>0</th>\n",
              "      <td>8842281e1d1347389f2ab93d60773d4d</td>\n",
              "      <td>1384</td>\n",
              "      <td>4</td>\n",
              "      <td>The Odyssey</td>\n",
              "      <td>https://www.goodreads.com/book/show/1384.The_O...</td>\n",
              "    </tr>\n",
              "    <tr>\n",
              "      <th>1</th>\n",
              "      <td>8842281e1d1347389f2ab93d60773d4d</td>\n",
              "      <td>1376</td>\n",
              "      <td>4</td>\n",
              "      <td>The Iliad</td>\n",
              "      <td>https://www.goodreads.com/book/show/1376.The_I...</td>\n",
              "    </tr>\n",
              "  </tbody>\n",
              "</table>\n",
              "</div>"
            ],
            "text/plain": [
              "                            user_id  ...                                               link\n",
              "0  8842281e1d1347389f2ab93d60773d4d  ...  https://www.goodreads.com/book/show/1384.The_O...\n",
              "1  8842281e1d1347389f2ab93d60773d4d  ...  https://www.goodreads.com/book/show/1376.The_I...\n",
              "\n",
              "[2 rows x 5 columns]"
            ]
          },
          "metadata": {
            "tags": []
          },
          "execution_count": 38
        }
      ]
    },
    {
      "cell_type": "markdown",
      "metadata": {
        "id": "6d31048b"
      },
      "source": [
        "`rating` contains `int` values, ready for following model calculation."
      ],
      "id": "6d31048b"
    },
    {
      "cell_type": "code",
      "metadata": {
        "colab": {
          "base_uri": "https://localhost:8080/"
        },
        "id": "28a4ec9e",
        "outputId": "b907bc08-17f6-491a-cb17-15e6e8a7a28d"
      },
      "source": [
        "# check for data type\n",
        "df.info()"
      ],
      "id": "28a4ec9e",
      "execution_count": null,
      "outputs": [
        {
          "output_type": "stream",
          "text": [
            "<class 'pandas.core.frame.DataFrame'>\n",
            "Int64Index: 2734350 entries, 0 to 2734349\n",
            "Data columns (total 5 columns):\n",
            " #   Column   Dtype \n",
            "---  ------   ----- \n",
            " 0   user_id  object\n",
            " 1   book_id  string\n",
            " 2   rating   int64 \n",
            " 3   title    object\n",
            " 4   link     object\n",
            "dtypes: int64(1), object(3), string(1)\n",
            "memory usage: 125.2+ MB\n"
          ],
          "name": "stdout"
        }
      ]
    },
    {
      "cell_type": "markdown",
      "metadata": {
        "id": "Wm-Jb4CHqWLp"
      },
      "source": [
        "The average rating is 0.4, probably because not all users rate all books and the missing values are represented by 0."
      ],
      "id": "Wm-Jb4CHqWLp"
    },
    {
      "cell_type": "code",
      "metadata": {
        "colab": {
          "base_uri": "https://localhost:8080/",
          "height": 295
        },
        "id": "c4a7d5fa",
        "outputId": "08c97a40-6aea-4d67-a844-ad87fcd9eded"
      },
      "source": [
        "df.describe()"
      ],
      "id": "c4a7d5fa",
      "execution_count": null,
      "outputs": [
        {
          "output_type": "execute_result",
          "data": {
            "text/html": [
              "<div>\n",
              "<style scoped>\n",
              "    .dataframe tbody tr th:only-of-type {\n",
              "        vertical-align: middle;\n",
              "    }\n",
              "\n",
              "    .dataframe tbody tr th {\n",
              "        vertical-align: top;\n",
              "    }\n",
              "\n",
              "    .dataframe thead th {\n",
              "        text-align: right;\n",
              "    }\n",
              "</style>\n",
              "<table border=\"1\" class=\"dataframe\">\n",
              "  <thead>\n",
              "    <tr style=\"text-align: right;\">\n",
              "      <th></th>\n",
              "      <th>rating</th>\n",
              "    </tr>\n",
              "  </thead>\n",
              "  <tbody>\n",
              "    <tr>\n",
              "      <th>count</th>\n",
              "      <td>2.734350e+06</td>\n",
              "    </tr>\n",
              "    <tr>\n",
              "      <th>mean</th>\n",
              "      <td>1.824787e+00</td>\n",
              "    </tr>\n",
              "    <tr>\n",
              "      <th>std</th>\n",
              "      <td>2.123223e+00</td>\n",
              "    </tr>\n",
              "    <tr>\n",
              "      <th>min</th>\n",
              "      <td>0.000000e+00</td>\n",
              "    </tr>\n",
              "    <tr>\n",
              "      <th>25%</th>\n",
              "      <td>0.000000e+00</td>\n",
              "    </tr>\n",
              "    <tr>\n",
              "      <th>50%</th>\n",
              "      <td>0.000000e+00</td>\n",
              "    </tr>\n",
              "    <tr>\n",
              "      <th>75%</th>\n",
              "      <td>4.000000e+00</td>\n",
              "    </tr>\n",
              "    <tr>\n",
              "      <th>max</th>\n",
              "      <td>5.000000e+00</td>\n",
              "    </tr>\n",
              "  </tbody>\n",
              "</table>\n",
              "</div>"
            ],
            "text/plain": [
              "             rating\n",
              "count  2.734350e+06\n",
              "mean   1.824787e+00\n",
              "std    2.123223e+00\n",
              "min    0.000000e+00\n",
              "25%    0.000000e+00\n",
              "50%    0.000000e+00\n",
              "75%    4.000000e+00\n",
              "max    5.000000e+00"
            ]
          },
          "metadata": {
            "tags": []
          },
          "execution_count": 40
        }
      ]
    },
    {
      "cell_type": "markdown",
      "metadata": {
        "id": "5CDgSxZNiO5h"
      },
      "source": [
        "Excluding the zero ratings, the average rating is around 4."
      ],
      "id": "5CDgSxZNiO5h"
    },
    {
      "cell_type": "code",
      "metadata": {
        "colab": {
          "base_uri": "https://localhost:8080/",
          "height": 295
        },
        "id": "7eSkhOq_iKWn",
        "outputId": "7a45a4cf-1829-4581-b86f-866879384285"
      },
      "source": [
        "# exclud the zero ratings\n",
        "df[df['rating'] != 0].describe()"
      ],
      "id": "7eSkhOq_iKWn",
      "execution_count": null,
      "outputs": [
        {
          "output_type": "execute_result",
          "data": {
            "text/html": [
              "<div>\n",
              "<style scoped>\n",
              "    .dataframe tbody tr th:only-of-type {\n",
              "        vertical-align: middle;\n",
              "    }\n",
              "\n",
              "    .dataframe tbody tr th {\n",
              "        vertical-align: top;\n",
              "    }\n",
              "\n",
              "    .dataframe thead th {\n",
              "        text-align: right;\n",
              "    }\n",
              "</style>\n",
              "<table border=\"1\" class=\"dataframe\">\n",
              "  <thead>\n",
              "    <tr style=\"text-align: right;\">\n",
              "      <th></th>\n",
              "      <th>rating</th>\n",
              "    </tr>\n",
              "  </thead>\n",
              "  <tbody>\n",
              "    <tr>\n",
              "      <th>count</th>\n",
              "      <td>1.229059e+06</td>\n",
              "    </tr>\n",
              "    <tr>\n",
              "      <th>mean</th>\n",
              "      <td>4.059696e+00</td>\n",
              "    </tr>\n",
              "    <tr>\n",
              "      <th>std</th>\n",
              "      <td>9.779034e-01</td>\n",
              "    </tr>\n",
              "    <tr>\n",
              "      <th>min</th>\n",
              "      <td>1.000000e+00</td>\n",
              "    </tr>\n",
              "    <tr>\n",
              "      <th>25%</th>\n",
              "      <td>3.000000e+00</td>\n",
              "    </tr>\n",
              "    <tr>\n",
              "      <th>50%</th>\n",
              "      <td>4.000000e+00</td>\n",
              "    </tr>\n",
              "    <tr>\n",
              "      <th>75%</th>\n",
              "      <td>5.000000e+00</td>\n",
              "    </tr>\n",
              "    <tr>\n",
              "      <th>max</th>\n",
              "      <td>5.000000e+00</td>\n",
              "    </tr>\n",
              "  </tbody>\n",
              "</table>\n",
              "</div>"
            ],
            "text/plain": [
              "             rating\n",
              "count  1.229059e+06\n",
              "mean   4.059696e+00\n",
              "std    9.779034e-01\n",
              "min    1.000000e+00\n",
              "25%    3.000000e+00\n",
              "50%    4.000000e+00\n",
              "75%    5.000000e+00\n",
              "max    5.000000e+00"
            ]
          },
          "metadata": {
            "tags": []
          },
          "execution_count": 41
        }
      ]
    },
    {
      "cell_type": "markdown",
      "metadata": {
        "id": "a8a75462"
      },
      "source": [
        "### Remove Rows (Filtering)\n",
        "\n",
        "First, the interactions with rating `0` will be removed. It indicates that no rating score is provided, and about 95% of these interactions are labelled \"not read\". \n",
        "\n",
        "In matrix factorization, these interactions will be treated the same as empty values."
      ],
      "id": "a8a75462"
    },
    {
      "cell_type": "code",
      "metadata": {
        "colab": {
          "base_uri": "https://localhost:8080/"
        },
        "id": "4duoEcjLr0-C",
        "outputId": "e9b2ceb7-7ba8-4d6b-a1da-6392828c67c5"
      },
      "source": [
        "# filter out interactions with rating = 0\n",
        "print(f'The dataset originally has {df.shape[0]} rows.')\n",
        "df = df[df['rating'] != 0]\n",
        "print(f'After filtering out the zero ratings, the dataset now has {df.shape[0]} rows.')"
      ],
      "id": "4duoEcjLr0-C",
      "execution_count": 28,
      "outputs": [
        {
          "output_type": "stream",
          "text": [
            "The dataset originally has 2734350 rows.\n",
            "After filtering out the zero ratings, the dataset now has 1229059 rows.\n"
          ],
          "name": "stdout"
        }
      ]
    },
    {
      "cell_type": "markdown",
      "metadata": {
        "id": "y6SEv6l8qg7X"
      },
      "source": [
        "For the purpose of building a more predictive recommender system, we'd also like to filter out the books that have been rated only a few times, and the users that only rated a few books.\n",
        "\n",
        "To further shrink the size of the dataset and shorten the run time, a higher number on the conditions is chosen to filter out more interactions."
      ],
      "id": "y6SEv6l8qg7X"
    },
    {
      "cell_type": "code",
      "metadata": {
        "colab": {
          "base_uri": "https://localhost:8080/"
        },
        "id": "0c8a0885",
        "outputId": "507f6173-f1a4-4074-b884-ae6fdadede27"
      },
      "source": [
        "# filter the data \n",
        "book_min_rated = 60 # filter out books rated less than 200 times\n",
        "user_min_rated = 40 # filter out users rated less than 100 books (surprisingly, there's plenty left!)\n",
        "\n",
        "booklist = pd.DataFrame(df.groupby('book_id').count()['rating']) # column rating is the counts of ratings\n",
        "userlist = pd.DataFrame(df.groupby('user_id').count()['rating']) # column rating is the counts of ratings\n",
        "\n",
        "original_num_books = booklist.shape[0]\n",
        "original_num_users = userlist.shape[0]\n",
        "original_num_ratings = df.shape[0]\n",
        "\n",
        "filtered_book_ids = booklist[booklist['rating'] >= book_min_rated].index\n",
        "filtered_user_ids = userlist[userlist['rating'] >= user_min_rated].index\n",
        "\n",
        "df = df[df['book_id'].apply(lambda x: x in filtered_book_ids)]\n",
        "df = df[df['user_id'].apply(lambda x: x in filtered_user_ids)]\n",
        "df.reset_index(inplace = True, drop = True)\n",
        "\n",
        "filtered_num_books = len(filtered_book_ids)\n",
        "filtered_num_users = len(filtered_user_ids)\n",
        "filtered_num_ratings = df.shape[0]\n",
        "\n",
        "print(f'The dataset originally contains {original_num_books} books, {original_num_users} users, and {original_num_ratings} rating records.')\n",
        "print(f'The filtered data now has {filtered_num_books} books, {filtered_num_users} users, and {filtered_num_ratings} rating records.')"
      ],
      "id": "0c8a0885",
      "execution_count": 29,
      "outputs": [
        {
          "output_type": "stream",
          "text": [
            "The dataset originally contains 36182 books, 267821 users, and 1229059 rating records.\n",
            "The filtered data now has 2474 books, 2917 users, and 133080 rating records.\n"
          ],
          "name": "stdout"
        }
      ]
    },
    {
      "cell_type": "code",
      "metadata": {
        "colab": {
          "base_uri": "https://localhost:8080/",
          "height": 202
        },
        "id": "xssGaDbvmY_0",
        "outputId": "9ca0af8c-d7a3-49bf-887d-fc0722d460cb"
      },
      "source": [
        "df.sample(5).reset_index(drop = True)"
      ],
      "id": "xssGaDbvmY_0",
      "execution_count": null,
      "outputs": [
        {
          "output_type": "execute_result",
          "data": {
            "text/html": [
              "<div>\n",
              "<style scoped>\n",
              "    .dataframe tbody tr th:only-of-type {\n",
              "        vertical-align: middle;\n",
              "    }\n",
              "\n",
              "    .dataframe tbody tr th {\n",
              "        vertical-align: top;\n",
              "    }\n",
              "\n",
              "    .dataframe thead th {\n",
              "        text-align: right;\n",
              "    }\n",
              "</style>\n",
              "<table border=\"1\" class=\"dataframe\">\n",
              "  <thead>\n",
              "    <tr style=\"text-align: right;\">\n",
              "      <th></th>\n",
              "      <th>user_id</th>\n",
              "      <th>book_id</th>\n",
              "      <th>rating</th>\n",
              "      <th>title</th>\n",
              "      <th>link</th>\n",
              "    </tr>\n",
              "  </thead>\n",
              "  <tbody>\n",
              "    <tr>\n",
              "      <th>0</th>\n",
              "      <td>06d2b1d9f173bc4a58824b138d67cc6d</td>\n",
              "      <td>46199</td>\n",
              "      <td>5</td>\n",
              "      <td>Letters to a Young Poet</td>\n",
              "      <td>https://www.goodreads.com/book/show/46199.Lett...</td>\n",
              "    </tr>\n",
              "    <tr>\n",
              "      <th>1</th>\n",
              "      <td>3d82d8c3b3018fa7cef1b555bca0a95f</td>\n",
              "      <td>138164</td>\n",
              "      <td>5</td>\n",
              "      <td>Selected Poems</td>\n",
              "      <td>https://www.goodreads.com/book/show/138164.Sel...</td>\n",
              "    </tr>\n",
              "    <tr>\n",
              "      <th>2</th>\n",
              "      <td>8129d617e084329ea4fd3503482adc17</td>\n",
              "      <td>385672</td>\n",
              "      <td>5</td>\n",
              "      <td>Collected Poems of George Oppen</td>\n",
              "      <td>https://www.goodreads.com/book/show/385672.Col...</td>\n",
              "    </tr>\n",
              "    <tr>\n",
              "      <th>3</th>\n",
              "      <td>e491493edfffbe27cea98ecdf884dfe4</td>\n",
              "      <td>47733</td>\n",
              "      <td>3</td>\n",
              "      <td>Love Poems</td>\n",
              "      <td>https://www.goodreads.com/book/show/47733.Love...</td>\n",
              "    </tr>\n",
              "    <tr>\n",
              "      <th>4</th>\n",
              "      <td>8befec84d6fe38dfaa2b5d0bae677254</td>\n",
              "      <td>138164</td>\n",
              "      <td>5</td>\n",
              "      <td>Selected Poems</td>\n",
              "      <td>https://www.goodreads.com/book/show/138164.Sel...</td>\n",
              "    </tr>\n",
              "  </tbody>\n",
              "</table>\n",
              "</div>"
            ],
            "text/plain": [
              "                            user_id  ...                                               link\n",
              "0  06d2b1d9f173bc4a58824b138d67cc6d  ...  https://www.goodreads.com/book/show/46199.Lett...\n",
              "1  3d82d8c3b3018fa7cef1b555bca0a95f  ...  https://www.goodreads.com/book/show/138164.Sel...\n",
              "2  8129d617e084329ea4fd3503482adc17  ...  https://www.goodreads.com/book/show/385672.Col...\n",
              "3  e491493edfffbe27cea98ecdf884dfe4  ...  https://www.goodreads.com/book/show/47733.Love...\n",
              "4  8befec84d6fe38dfaa2b5d0bae677254  ...  https://www.goodreads.com/book/show/138164.Sel...\n",
              "\n",
              "[5 rows x 5 columns]"
            ]
          },
          "metadata": {
            "tags": []
          },
          "execution_count": 44
        }
      ]
    },
    {
      "cell_type": "markdown",
      "metadata": {
        "id": "13c03088"
      },
      "source": [
        "# Modeling"
      ],
      "id": "13c03088"
    },
    {
      "cell_type": "markdown",
      "metadata": {
        "id": "yZZxyeWRu52V"
      },
      "source": [
        "## Explain the math"
      ],
      "id": "yZZxyeWRu52V"
    },
    {
      "cell_type": "markdown",
      "metadata": {
        "id": "bd7t7ovgu74a"
      },
      "source": [
        "### Matrix Factorization\n",
        "\n",
        "Matrix factorization is a class of collaborative filtering algorithms used in recommender systems. Matrix factorization algorithms work by decomposing the user-item interaction matrix into the product of two lower dimensionality rectangular matrices. \n",
        "\n",
        "This family of methods became widely known during the Netflix prize challenge due to its effectiveness as reported by Simon Funk in his 2006 blog post, where he shared his findings with the research community. The prediction results can be improved by assigning different regularization weights to the latent factors based on items' popularity and users' activeness.\n",
        "\n",
        "**Mathematics factorization**:\n",
        "\n",
        "e.g. 15 = 3 x 5\n",
        "\n",
        "**Matrix factorization**:\n",
        "\n",
        "matrix R (n rows x m columns) = matrix U (n rows x k columns) x matrix VT (V transposed) (k rows x m columns)\n",
        "\n",
        "                               +-----+-----+-----+-----+-----+\n",
        "                               |     |     |     |     |     |\n",
        "                               +-----+-----+-----+-----+-----+\n",
        "                               |     |     |     |     |     |   VT = 3x5\n",
        "                               +-----+-----+-----+-----+-----+\n",
        "                               |     |     |     |     |     |\n",
        "                               +-----+-----+-----+-----+-----+\n",
        "\n",
        "      +-----+-----+-----+      +-----+-----+-----+-----+-----+\n",
        "      |     |     |     |      |     |     |     |     |     |\n",
        "      +-----+-----+-----+      +-----+-----+-----+-----+-----+\n",
        "      |     |     |     |      |     |     |     |     |     |\n",
        "      +-----+-----+-----+      +-----+-----+-----+-----+-----+   R = 4x5\n",
        "      |     |     |     |      |     |     |     |     |     |\n",
        "      +-----+-----+-----+      +-----+-----+-----+-----+-----+\n",
        "      |     |     |     |      |     |     |     |     |     |\n",
        "      +-----+-----+-----+      +-----+-----+-----+-----+-----+\n",
        "            U = 4x3"
      ],
      "id": "bd7t7ovgu74a"
    },
    {
      "cell_type": "markdown",
      "metadata": {
        "id": "JD1TnkshvBFA"
      },
      "source": [
        "### SVD (Singular Value Decomposition)\n",
        "\n",
        "There are many different ways to factor matrices, but singular value decomposition is particularly useful for making recommendations.\n",
        "\n",
        "At a high level, SVD is an algorithm that decomposes a matrix $R$ into the best lower rank (i.e. smaller/simpler) approximation of the original matrix $R$. Mathematically, it decomposes R into a two unitary matrices and a diagonal matrix:\n",
        "\n",
        "$$\\begin{equation}\n",
        "R = U\\Sigma V^{T}\n",
        "\\end{equation}$$\n",
        "\n",
        "where R is users's ratings matrix, $U$ is the user \"features\" matrix, $\\Sigma$ is the diagonal matrix of singular values (essentially weights), and $V^{T}$ is the book \"features\" matrix. $U$ and $V^{T}$ are orthogonal, and represent different things. $U$ represents how much users \"like\" each feature and $V^{T}$ represents how relevant each feature is to each book.\n",
        "\n",
        "To get the lower rank approximation, we take these matrices and keep only the top $k$ features (latent factors), which we think of as the underlying tastes and preferences vectors."
      ],
      "id": "JD1TnkshvBFA"
    },
    {
      "cell_type": "markdown",
      "metadata": {
        "id": "xtJXy1atWBCE"
      },
      "source": [
        "Let's say that we have 4 users and 5 books in our dataset, but realistically, not all users rate all books. The interaction matrix R contains many empty values. \n",
        "\n",
        "The matrix U 4x3 is user-feature affinity matrix, and VT 3x5 is item-feature relevance matrix. Σ 3x3 is diagonal feature weight matrix. 3 here is the number of latent factors.\n",
        "\n",
        "      +-----+-----+-----+        +-----+-----+-----+-----+-----+\n",
        "      |     |     |     |        |     |     |     |     |     |\n",
        "      +-----+-----+-----+        +-----+-----+-----+-----+-----+\n",
        "    Σ |     |     |     |        |     |     |     |     |     |   VT = 3x5\n",
        "      +-----+-----+-----+        +-----+-----+-----+-----+-----+\n",
        "      |     |     |     |        |     |     |     |     |     |\n",
        "      +-----+-----+-----+        +-----+-----+-----+-----+-----+\n",
        "\n",
        "                                   B1    B2    B3    B4    B5\n",
        "      +-----+-----+-----+        +-----+-----+-----+-----+-----+\n",
        "      |     |     |     |    U1  |  5  |     |  4  |  2  |     |\n",
        "      +-----+-----+-----+        +-----+-----+-----+-----+-----+\n",
        "      |     |     |     |    U2  |     |  4  |     |     |  5  |\n",
        "      +-----+-----+-----+        +-----+-----+-----+-----+-----+   R = 4x5\n",
        "      |     |     |     |    U3  |  4  |     |     |  1  |  2  |\n",
        "      +-----+-----+-----+        +-----+-----+-----+-----+-----+\n",
        "      |     |     |     |    U4  |     |     |  4  |  1  |  5  |\n",
        "      +-----+-----+-----+        +-----+-----+-----+-----+-----+\n",
        "            U = 4x3\n",
        "\n",
        "The model would first fill matrices U, VT and Σ with random values:\n",
        "\n",
        "      +-----+-----+-----+        +-----+-----+-----+-----+-----+\n",
        "      | 0.5 |     |     |        | 2.3 | 2.4 | 2.5 | 2.6 | 2.7 |\n",
        "      +-----+-----+-----+        +-----+-----+-----+-----+-----+\n",
        "    Σ |     | 0.2 |     |        | 2.8 | 2.9 | 3.0 | 3.0 | 3.0 |   VT = 3x5\n",
        "      +-----+-----+-----+        +-----+-----+-----+-----+-----+\n",
        "      |     |     | 1.1 |        | 3.0 | 3.0 | 3.0 | 3.0 | 3.0 |\n",
        "      +-----+-----+-----+        +-----+-----+-----+-----+-----+\n",
        "\n",
        "                                   B1    B2    B3    B4    B5\n",
        "      +-----+-----+-----+        +-----+-----+-----+-----+-----+\n",
        "      | 1.1 | 1.2 | 1.3 |    U1  |  5  |     |  4  |  2  |     |\n",
        "      +-----+-----+-----+        +-----+-----+-----+-----+-----+\n",
        "      | 1.4 | 1.5 | 1.6 |    U2  |     |  4  |     |     |  5  |\n",
        "      +-----+-----+-----+        +-----+-----+-----+-----+-----+   R = 4x5\n",
        "      | 1.7 | 1.8 | 1.9 |    U3  |  4  |     |     |  1  |  2  |\n",
        "      +-----+-----+-----+        +-----+-----+-----+-----+-----+\n",
        "      | 2.0 | 2.1 | 2.2 |    U4  |     |     |  4  |  1  |  5  |\n",
        "      +-----+-----+-----+        +-----+-----+-----+-----+-----+\n",
        "            U = 4x3\n",
        "          \n",
        "Then, it calculates each position in matrix R using the values in U, V and Σ. \n",
        "\n",
        "For example, the value in R between U1 and B1 can be calculated from the dot product of U and Σ and VT:\n",
        "\n",
        "Dot product of Σ and VT:\n",
        "\n",
        "       +---------+---------+-----+-----+-----+\n",
        "       | 0.5x2.3 | 0.5x2.4 | ... | ... | ... |\n",
        "       +---------+---------+-----+-----+-----+\n",
        "       | 0.2x2.8 | 0.2x2.9 | ... | ... | ... | \n",
        "       +---------+---------+-----+-----+-----+\n",
        "       | 1.1x3.0 | 1.1x3.0 | ... | ... | ... |\n",
        "       +---------+---------+-----+-----+-----+\n",
        "\n",
        "       +---------+---------+-----+-----+-----+\n",
        "       |   1.15  |   1.20  | ... | ... | ... |\n",
        "       +---------+---------+-----+-----+-----+\n",
        "       |   0.56  |   0.58  | ... | ... | ... | \n",
        "       +---------+---------+-----+-----+-----+\n",
        "       |   3.30  |   3.30  | ... | ... | ... |\n",
        "       +---------+---------+-----+-----+-----+\n",
        "\n",
        "Dot product of U and the matrix above is R. The value in cell U1_B1 can be calculated as:\n",
        "\n",
        "1.1 * 1.15 + 1.2 * 0.56 + 1.3 * 3.3 = 6.227\n",
        "\n",
        "Since this prediction is higher than the actual value of U1_B1 (5), we will slightly descrease the values in the cells we just used for calculation: the diagonal values in Σ, the first column of VT, and the first row of U.\n",
        "\n",
        "If the predicted value is lower than the actual value, we will slightly increase the values in those cells.\n",
        "\n",
        "By calculating all the positions in R that has actual value, we can adjust the values in U, VT and Σ repetitively to minimize the errors. This process is called **Gradient Descent**.\n",
        "\n",
        "After this process, we will have the optimal U and V, with the minimal error between our calculation and the actual values in R.\n",
        "\n",
        "      +-----+-----+-----+        +-----+-----+-----+-----+-----+\n",
        "      | ... |     |     |        | ... | ... | ... | ... | ... |\n",
        "      +-----+-----+-----+        +-----+-----+-----+-----+-----+\n",
        "    Σ |     | ... |     |        | ... | ... | ... | ... | ... |   VT = 3x5\n",
        "      +-----+-----+-----+        +-----+-----+-----+-----+-----+\n",
        "      |     |     | ... |        | ... | ... | ... | ... | ... |\n",
        "      +-----+-----+-----+        +-----+-----+-----+-----+-----+\n",
        "\n",
        "                                   B1    B2    B3    B4    B5\n",
        "      +-----+-----+-----+        +-----+-----+-----+-----+-----+\n",
        "      | ... | ... | ... |    U1  |  5  |     |  4  |  2  |     |\n",
        "      +-----+-----+-----+        +-----+-----+-----+-----+-----+\n",
        "      | ... | ... | ... |    U2  |     |  4  |     |     |  5  |\n",
        "      +-----+-----+-----+        +-----+-----+-----+-----+-----+   R = 4x5\n",
        "      | ... | ... | ... |    U3  |  4  |     |     |  1  |  2  |\n",
        "      +-----+-----+-----+        +-----+-----+-----+-----+-----+\n",
        "      | ... | ... | ... |    U4  |     |     |  4  |  1  |  5  |\n",
        "      +-----+-----+-----+        +-----+-----+-----+-----+-----+\n",
        "            U = 4x3\n",
        "\n",
        "With the optimal U, VT and Σ, we can do a dot product and generate predictions for all the empty values in R! Those would be how we predict the users would rate certain books, and we can recommend the books that we think they will rate highly to them!"
      ],
      "id": "xtJXy1atWBCE"
    },
    {
      "cell_type": "markdown",
      "metadata": {
        "id": "5v9CknUlvEQi"
      },
      "source": [
        "### RMSE vs MAE\n",
        "\n",
        "When comparing the calculated value (prediction score) and the actual value (true score), there are two metrics commonly used.\n",
        "\n",
        "**Root mean square error** (RMSE):\n",
        "\n",
        "$$\\sqrt{\\frac{1}{n}\\sum_{ij}(R_{ij}-\\hat R_{ij})^2}$$\n",
        "\n",
        "**Mean absolute error** (MAE) \n",
        "\n",
        "\n",
        "$$\\frac{1}{n}\\sum_{ij}|R_{ij}-\\hat R_{ij}|$$"
      ],
      "id": "5v9CknUlvEQi"
    },
    {
      "cell_type": "markdown",
      "metadata": {
        "id": "iMHTP8UnbZ7c"
      },
      "source": [
        "To understand the difference between them, let's see an example. \n",
        "\n",
        "Say we have 3 rating records, and we also made predictions for each of them."
      ],
      "id": "iMHTP8UnbZ7c"
    },
    {
      "cell_type": "code",
      "metadata": {
        "colab": {
          "base_uri": "https://localhost:8080/",
          "height": 141
        },
        "id": "nyZHvhcya98a",
        "outputId": "52cfab77-e19c-4b4a-993d-d193a13c203f"
      },
      "source": [
        "# example \n",
        "sample = pd.DataFrame()\n",
        "sample['Actual Value'] = [5, 2, 4]\n",
        "sample['Predicted Value'] = [3, 1, 5]\n",
        "sample"
      ],
      "id": "nyZHvhcya98a",
      "execution_count": null,
      "outputs": [
        {
          "output_type": "execute_result",
          "data": {
            "text/html": [
              "<div>\n",
              "<style scoped>\n",
              "    .dataframe tbody tr th:only-of-type {\n",
              "        vertical-align: middle;\n",
              "    }\n",
              "\n",
              "    .dataframe tbody tr th {\n",
              "        vertical-align: top;\n",
              "    }\n",
              "\n",
              "    .dataframe thead th {\n",
              "        text-align: right;\n",
              "    }\n",
              "</style>\n",
              "<table border=\"1\" class=\"dataframe\">\n",
              "  <thead>\n",
              "    <tr style=\"text-align: right;\">\n",
              "      <th></th>\n",
              "      <th>Actual Value</th>\n",
              "      <th>Predicted Value</th>\n",
              "    </tr>\n",
              "  </thead>\n",
              "  <tbody>\n",
              "    <tr>\n",
              "      <th>0</th>\n",
              "      <td>5</td>\n",
              "      <td>3</td>\n",
              "    </tr>\n",
              "    <tr>\n",
              "      <th>1</th>\n",
              "      <td>2</td>\n",
              "      <td>1</td>\n",
              "    </tr>\n",
              "    <tr>\n",
              "      <th>2</th>\n",
              "      <td>4</td>\n",
              "      <td>5</td>\n",
              "    </tr>\n",
              "  </tbody>\n",
              "</table>\n",
              "</div>"
            ],
            "text/plain": [
              "   Actual Value  Predicted Value\n",
              "0             5                3\n",
              "1             2                1\n",
              "2             4                5"
            ]
          },
          "metadata": {
            "tags": []
          },
          "execution_count": 45
        }
      ]
    },
    {
      "cell_type": "markdown",
      "metadata": {
        "id": "dfEc6ONhb60L"
      },
      "source": [
        "To calculate RMSE, we'll first calculate the square error:"
      ],
      "id": "dfEc6ONhb60L"
    },
    {
      "cell_type": "code",
      "metadata": {
        "colab": {
          "base_uri": "https://localhost:8080/",
          "height": 175
        },
        "id": "wNe0LDlsbqqE",
        "outputId": "9c1e09c3-3262-45b7-a07a-1ddb43032785"
      },
      "source": [
        "# square error\n",
        "sample['SE'] = (sample['Actual Value'] - sample['Predicted Value']) ** 2\n",
        "display(sample)\n",
        "\n",
        "# mean square error\n",
        "print('MSE (4 + 1 + 1) / 3 =', sample['SE'].mean())\n",
        "\n",
        "# root mean square error:\n",
        "print('RMSE is the root of MSE:', np.sqrt(sample['SE'].mean()).round(2))"
      ],
      "id": "wNe0LDlsbqqE",
      "execution_count": null,
      "outputs": [
        {
          "output_type": "display_data",
          "data": {
            "text/html": [
              "<div>\n",
              "<style scoped>\n",
              "    .dataframe tbody tr th:only-of-type {\n",
              "        vertical-align: middle;\n",
              "    }\n",
              "\n",
              "    .dataframe tbody tr th {\n",
              "        vertical-align: top;\n",
              "    }\n",
              "\n",
              "    .dataframe thead th {\n",
              "        text-align: right;\n",
              "    }\n",
              "</style>\n",
              "<table border=\"1\" class=\"dataframe\">\n",
              "  <thead>\n",
              "    <tr style=\"text-align: right;\">\n",
              "      <th></th>\n",
              "      <th>Actual Value</th>\n",
              "      <th>Predicted Value</th>\n",
              "      <th>SE</th>\n",
              "    </tr>\n",
              "  </thead>\n",
              "  <tbody>\n",
              "    <tr>\n",
              "      <th>0</th>\n",
              "      <td>5</td>\n",
              "      <td>3</td>\n",
              "      <td>4</td>\n",
              "    </tr>\n",
              "    <tr>\n",
              "      <th>1</th>\n",
              "      <td>2</td>\n",
              "      <td>1</td>\n",
              "      <td>1</td>\n",
              "    </tr>\n",
              "    <tr>\n",
              "      <th>2</th>\n",
              "      <td>4</td>\n",
              "      <td>5</td>\n",
              "      <td>1</td>\n",
              "    </tr>\n",
              "  </tbody>\n",
              "</table>\n",
              "</div>"
            ],
            "text/plain": [
              "   Actual Value  Predicted Value  SE\n",
              "0             5                3   4\n",
              "1             2                1   1\n",
              "2             4                5   1"
            ]
          },
          "metadata": {
            "tags": []
          }
        },
        {
          "output_type": "stream",
          "text": [
            "MSE (4 + 1 + 1) / 3 = 2.0\n",
            "RMSE is the root of MSE: 1.41\n"
          ],
          "name": "stdout"
        }
      ]
    },
    {
      "cell_type": "markdown",
      "metadata": {
        "id": "WseZS-UYdCUq"
      },
      "source": [
        "To calculate MAE, we'll first calculate the absolute error:"
      ],
      "id": "WseZS-UYdCUq"
    },
    {
      "cell_type": "code",
      "metadata": {
        "colab": {
          "base_uri": "https://localhost:8080/",
          "height": 158
        },
        "id": "gXV2xfuYdB2y",
        "outputId": "e4892a1f-ba0b-4689-a1a5-b70273c788b6"
      },
      "source": [
        "# absolute error\n",
        "sample['AE'] = abs(sample['Actual Value'] - sample['Predicted Value'])\n",
        "display(sample)\n",
        "\n",
        "# mean absolute error\n",
        "print('MAE (2 + 1 + 1) / 3 =', round(sample['AE'].mean(), 2))"
      ],
      "id": "gXV2xfuYdB2y",
      "execution_count": null,
      "outputs": [
        {
          "output_type": "display_data",
          "data": {
            "text/html": [
              "<div>\n",
              "<style scoped>\n",
              "    .dataframe tbody tr th:only-of-type {\n",
              "        vertical-align: middle;\n",
              "    }\n",
              "\n",
              "    .dataframe tbody tr th {\n",
              "        vertical-align: top;\n",
              "    }\n",
              "\n",
              "    .dataframe thead th {\n",
              "        text-align: right;\n",
              "    }\n",
              "</style>\n",
              "<table border=\"1\" class=\"dataframe\">\n",
              "  <thead>\n",
              "    <tr style=\"text-align: right;\">\n",
              "      <th></th>\n",
              "      <th>Actual Value</th>\n",
              "      <th>Predicted Value</th>\n",
              "      <th>SE</th>\n",
              "      <th>AE</th>\n",
              "    </tr>\n",
              "  </thead>\n",
              "  <tbody>\n",
              "    <tr>\n",
              "      <th>0</th>\n",
              "      <td>5</td>\n",
              "      <td>3</td>\n",
              "      <td>4</td>\n",
              "      <td>2</td>\n",
              "    </tr>\n",
              "    <tr>\n",
              "      <th>1</th>\n",
              "      <td>2</td>\n",
              "      <td>1</td>\n",
              "      <td>1</td>\n",
              "      <td>1</td>\n",
              "    </tr>\n",
              "    <tr>\n",
              "      <th>2</th>\n",
              "      <td>4</td>\n",
              "      <td>5</td>\n",
              "      <td>1</td>\n",
              "      <td>1</td>\n",
              "    </tr>\n",
              "  </tbody>\n",
              "</table>\n",
              "</div>"
            ],
            "text/plain": [
              "   Actual Value  Predicted Value  SE  AE\n",
              "0             5                3   4   2\n",
              "1             2                1   1   1\n",
              "2             4                5   1   1"
            ]
          },
          "metadata": {
            "tags": []
          }
        },
        {
          "output_type": "stream",
          "text": [
            "MAE (2 + 1 + 1) / 3 = 1.33\n"
          ],
          "name": "stdout"
        }
      ]
    },
    {
      "cell_type": "markdown",
      "metadata": {
        "id": "OmEgxncgdr3l"
      },
      "source": [
        "As we can see from the example, RMSE is always larger than or equal to MAE. The greater the difference between them, the greater the variance in the individual errors in the sample. If the RMSE = MAE, then all the errors are of the same magnitude.\n",
        "\n",
        "RMSE gives a relatively high weight to larger errors. This means RMSE should be used over MAE when large errors are especially undesired."
      ],
      "id": "OmEgxncgdr3l"
    },
    {
      "cell_type": "markdown",
      "metadata": {
        "id": "74PiMycgsjaD"
      },
      "source": [
        "## Build the model"
      ],
      "id": "74PiMycgsjaD"
    },
    {
      "cell_type": "markdown",
      "metadata": {
        "id": "8qzet3OY6XxD"
      },
      "source": [
        "#### Train and Test on Known Values"
      ],
      "id": "8qzet3OY6XxD"
    },
    {
      "cell_type": "code",
      "metadata": {
        "id": "4Mielib-peMd",
        "colab": {
          "base_uri": "https://localhost:8080/"
        },
        "outputId": "e86f5b55-137e-422c-d835-62a4e1aa192f"
      },
      "source": [
        "# install surprise package\n",
        "!pip install surprise"
      ],
      "id": "4Mielib-peMd",
      "execution_count": 22,
      "outputs": [
        {
          "output_type": "stream",
          "text": [
            "Collecting surprise\n",
            "  Downloading surprise-0.1-py2.py3-none-any.whl (1.8 kB)\n",
            "Collecting scikit-surprise\n",
            "  Downloading scikit-surprise-1.1.1.tar.gz (11.8 MB)\n",
            "\u001b[K     |████████████████████████████████| 11.8 MB 49 kB/s \n",
            "\u001b[?25hRequirement already satisfied: joblib>=0.11 in /usr/local/lib/python3.7/dist-packages (from scikit-surprise->surprise) (1.0.1)\n",
            "Requirement already satisfied: numpy>=1.11.2 in /usr/local/lib/python3.7/dist-packages (from scikit-surprise->surprise) (1.19.5)\n",
            "Requirement already satisfied: scipy>=1.0.0 in /usr/local/lib/python3.7/dist-packages (from scikit-surprise->surprise) (1.4.1)\n",
            "Requirement already satisfied: six>=1.10.0 in /usr/local/lib/python3.7/dist-packages (from scikit-surprise->surprise) (1.15.0)\n",
            "Building wheels for collected packages: scikit-surprise\n",
            "  Building wheel for scikit-surprise (setup.py) ... \u001b[?25l\u001b[?25hdone\n",
            "  Created wheel for scikit-surprise: filename=scikit_surprise-1.1.1-cp37-cp37m-linux_x86_64.whl size=1617757 sha256=3a8738786b4c6df27798364124bbe9621d02ffae003132d9cd5edb2c6b7ccf1b\n",
            "  Stored in directory: /root/.cache/pip/wheels/76/44/74/b498c42be47b2406bd27994e16c5188e337c657025ab400c1c\n",
            "Successfully built scikit-surprise\n",
            "Installing collected packages: scikit-surprise, surprise\n",
            "Successfully installed scikit-surprise-1.1.1 surprise-0.1\n"
          ],
          "name": "stdout"
        }
      ]
    },
    {
      "cell_type": "code",
      "metadata": {
        "id": "NlXZpW6jphJ9"
      },
      "source": [
        "# import the functions needed\n",
        "from surprise.reader import Reader\n",
        "from surprise import Dataset\n",
        "from surprise.model_selection import train_test_split\n",
        "from surprise import SVD\n",
        "from surprise.model_selection import cross_validate\n",
        "from surprise import accuracy\n",
        "from surprise.model_selection import GridSearchCV"
      ],
      "id": "NlXZpW6jphJ9",
      "execution_count": 23,
      "outputs": []
    },
    {
      "cell_type": "code",
      "metadata": {
        "id": "w9hy_TsIp8pB"
      },
      "source": [
        "# convert the data into the surprise dataset format\n",
        "reader = Reader(rating_scale = (1, 5))\n",
        "data = Dataset.load_from_df(df[['user_id', 'book_id', 'rating']], reader = reader)"
      ],
      "id": "w9hy_TsIp8pB",
      "execution_count": 30,
      "outputs": []
    },
    {
      "cell_type": "code",
      "metadata": {
        "id": "WLUAuPxVqGI9"
      },
      "source": [
        "# split train and test set, with test set size as 20%\n",
        "trainset, testset = train_test_split(data, test_size=0.2, random_state = 0)"
      ],
      "id": "WLUAuPxVqGI9",
      "execution_count": 33,
      "outputs": []
    },
    {
      "cell_type": "code",
      "metadata": {
        "id": "vNrU_vK6qKRB"
      },
      "source": [
        "# initiate the model\n",
        "algo = SVD()\n",
        "\n",
        "# train the model on the train set, and predict ratings for the test set\n",
        "algo.fit(trainset)\n",
        "predictions = algo.test(testset)"
      ],
      "id": "vNrU_vK6qKRB",
      "execution_count": 34,
      "outputs": []
    },
    {
      "cell_type": "code",
      "metadata": {
        "colab": {
          "base_uri": "https://localhost:8080/",
          "height": 202
        },
        "id": "DgAY179ouj57",
        "outputId": "c1bfd8c4-e806-4204-a73c-2ed0bca9bcf4"
      },
      "source": [
        "# see the predictions of the test set in a dataframe\n",
        "pred_df = pd.DataFrame(predictions)\n",
        "pred_df.head()"
      ],
      "id": "DgAY179ouj57",
      "execution_count": 35,
      "outputs": [
        {
          "output_type": "execute_result",
          "data": {
            "text/html": [
              "<div>\n",
              "<style scoped>\n",
              "    .dataframe tbody tr th:only-of-type {\n",
              "        vertical-align: middle;\n",
              "    }\n",
              "\n",
              "    .dataframe tbody tr th {\n",
              "        vertical-align: top;\n",
              "    }\n",
              "\n",
              "    .dataframe thead th {\n",
              "        text-align: right;\n",
              "    }\n",
              "</style>\n",
              "<table border=\"1\" class=\"dataframe\">\n",
              "  <thead>\n",
              "    <tr style=\"text-align: right;\">\n",
              "      <th></th>\n",
              "      <th>uid</th>\n",
              "      <th>iid</th>\n",
              "      <th>r_ui</th>\n",
              "      <th>est</th>\n",
              "      <th>details</th>\n",
              "    </tr>\n",
              "  </thead>\n",
              "  <tbody>\n",
              "    <tr>\n",
              "      <th>0</th>\n",
              "      <td>3496b6c3b52e81078aa5bddb5b542846</td>\n",
              "      <td>10910023</td>\n",
              "      <td>5.0</td>\n",
              "      <td>3.923806</td>\n",
              "      <td>{'was_impossible': False}</td>\n",
              "    </tr>\n",
              "    <tr>\n",
              "      <th>1</th>\n",
              "      <td>15fbcee51d8ab709f3d3902385135afd</td>\n",
              "      <td>23296297</td>\n",
              "      <td>5.0</td>\n",
              "      <td>4.396339</td>\n",
              "      <td>{'was_impossible': False}</td>\n",
              "    </tr>\n",
              "    <tr>\n",
              "      <th>2</th>\n",
              "      <td>cf1dc5779d74aab50f4ef944c4a4de34</td>\n",
              "      <td>71654</td>\n",
              "      <td>4.0</td>\n",
              "      <td>3.514221</td>\n",
              "      <td>{'was_impossible': False}</td>\n",
              "    </tr>\n",
              "    <tr>\n",
              "      <th>3</th>\n",
              "      <td>2dfa7627f1c9330576360b4bfb24f6f6</td>\n",
              "      <td>6387626</td>\n",
              "      <td>5.0</td>\n",
              "      <td>4.105496</td>\n",
              "      <td>{'was_impossible': False}</td>\n",
              "    </tr>\n",
              "    <tr>\n",
              "      <th>4</th>\n",
              "      <td>b45650498882a0b4697c02cbc4f798d2</td>\n",
              "      <td>270903</td>\n",
              "      <td>4.0</td>\n",
              "      <td>4.356175</td>\n",
              "      <td>{'was_impossible': False}</td>\n",
              "    </tr>\n",
              "  </tbody>\n",
              "</table>\n",
              "</div>"
            ],
            "text/plain": [
              "                                uid  ...                    details\n",
              "0  3496b6c3b52e81078aa5bddb5b542846  ...  {'was_impossible': False}\n",
              "1  15fbcee51d8ab709f3d3902385135afd  ...  {'was_impossible': False}\n",
              "2  cf1dc5779d74aab50f4ef944c4a4de34  ...  {'was_impossible': False}\n",
              "3  2dfa7627f1c9330576360b4bfb24f6f6  ...  {'was_impossible': False}\n",
              "4  b45650498882a0b4697c02cbc4f798d2  ...  {'was_impossible': False}\n",
              "\n",
              "[5 rows x 5 columns]"
            ]
          },
          "metadata": {
            "tags": []
          },
          "execution_count": 35
        }
      ]
    },
    {
      "cell_type": "markdown",
      "metadata": {
        "id": "6MxB0Qx6vXIS"
      },
      "source": [
        "In the prediction, `uid` is the `user_id`, `iid` is the `book_id`, `r_ui` is the known value from the original data, and `est` is the predicted rating.\n",
        "\n",
        "To evaluate the model, the RMSE and MAE are calculated.\n",
        "\n",
        "For the test set, RMSE is 0.81 and MAE is 0.63. "
      ],
      "id": "6MxB0Qx6vXIS"
    },
    {
      "cell_type": "code",
      "metadata": {
        "colab": {
          "base_uri": "https://localhost:8080/"
        },
        "id": "OJfeeS6guG3D",
        "outputId": "6099c29b-eee8-4026-ffdb-bac4e1bb4491"
      },
      "source": [
        "# RMSE of the test set\n",
        "accuracy.rmse(predictions);\n",
        "\n",
        "# MAE of the test set\n",
        "accuracy.mae(predictions);"
      ],
      "id": "OJfeeS6guG3D",
      "execution_count": 36,
      "outputs": [
        {
          "output_type": "stream",
          "text": [
            "RMSE: 0.8124\n",
            "MAE:  0.6280\n"
          ],
          "name": "stdout"
        }
      ]
    },
    {
      "cell_type": "markdown",
      "metadata": {
        "id": "qnC2TBEftQ7x"
      },
      "source": [
        "##### Base rate\n",
        "\n",
        "Are these values impressive enough? We can compare them with the base rate: predicting by the average or mode of ratings.\n",
        "\n",
        "Since `surprise` has converted the data into it's special black-box format, we need to do this manually."
      ],
      "id": "qnC2TBEftQ7x"
    },
    {
      "cell_type": "code",
      "metadata": {
        "colab": {
          "base_uri": "https://localhost:8080/"
        },
        "id": "FQToVY-ZtP_S",
        "outputId": "36fffed9-882b-49bd-ba0c-53ad2778934f"
      },
      "source": [
        "# put testset into a df\n",
        "testset_df = pd.DataFrame(testset, columns = ['user_id', 'book_id', 'rating'])\n",
        "print(f'Testset has {testset_df.shape[0]} rows.')"
      ],
      "id": "FQToVY-ZtP_S",
      "execution_count": 37,
      "outputs": [
        {
          "output_type": "stream",
          "text": [
            "Testset has 26616 rows.\n"
          ],
          "name": "stdout"
        }
      ]
    },
    {
      "cell_type": "code",
      "metadata": {
        "colab": {
          "base_uri": "https://localhost:8080/"
        },
        "id": "tV-AvjyquJJ5",
        "outputId": "02110a59-9479-4d49-b6c1-a2d4dada07bd"
      },
      "source": [
        "# find the rating records from the trainset for users in the testset\n",
        "# since the trainset is now in a special surprise format, it can't be operated directly\n",
        "# the traset will be filtered out from the original data\n",
        "\n",
        "fullset = df[['user_id', 'book_id', 'rating']]\n",
        "keys = list(testset_df.columns.values)\n",
        "i1 = fullset.set_index(keys).index\n",
        "i2 = testset_df.set_index(keys).index\n",
        "trainset_df = fullset[~i1.isin(i2)]\n",
        "print(f'Trainset has {trainset_df.shape[0]} rows.')"
      ],
      "id": "tV-AvjyquJJ5",
      "execution_count": 38,
      "outputs": [
        {
          "output_type": "stream",
          "text": [
            "Trainset has 106464 rows.\n"
          ],
          "name": "stdout"
        }
      ]
    },
    {
      "cell_type": "code",
      "metadata": {
        "colab": {
          "base_uri": "https://localhost:8080/",
          "height": 202
        },
        "id": "LSSW1LFcymj7",
        "outputId": "0f6c2122-c03d-4eda-8a72-c864ab69f131"
      },
      "source": [
        "# calculate the rating average and mode for each user\n",
        "base_rate = trainset_df.groupby(\"user_id\")['rating'].agg([np.mean, lambda x:x.value_counts().index[0]])\n",
        "base_rate.rename(columns = {'mean': 'Average', '<lambda_0>': 'Mode'}, inplace = True)\n",
        "base_rate = base_rate.rename_axis('user_id').reset_index()\n",
        "base_rate.head()"
      ],
      "id": "LSSW1LFcymj7",
      "execution_count": null,
      "outputs": [
        {
          "output_type": "execute_result",
          "data": {
            "text/html": [
              "<div>\n",
              "<style scoped>\n",
              "    .dataframe tbody tr th:only-of-type {\n",
              "        vertical-align: middle;\n",
              "    }\n",
              "\n",
              "    .dataframe tbody tr th {\n",
              "        vertical-align: top;\n",
              "    }\n",
              "\n",
              "    .dataframe thead th {\n",
              "        text-align: right;\n",
              "    }\n",
              "</style>\n",
              "<table border=\"1\" class=\"dataframe\">\n",
              "  <thead>\n",
              "    <tr style=\"text-align: right;\">\n",
              "      <th></th>\n",
              "      <th>user_id</th>\n",
              "      <th>Average</th>\n",
              "      <th>Mode</th>\n",
              "    </tr>\n",
              "  </thead>\n",
              "  <tbody>\n",
              "    <tr>\n",
              "      <th>0</th>\n",
              "      <td>0017507d4413a03fbfa5848972658206</td>\n",
              "      <td>3.324324</td>\n",
              "      <td>4</td>\n",
              "    </tr>\n",
              "    <tr>\n",
              "      <th>1</th>\n",
              "      <td>002ebed2a6bd926cbf41313ebd8cfaba</td>\n",
              "      <td>4.219512</td>\n",
              "      <td>5</td>\n",
              "    </tr>\n",
              "    <tr>\n",
              "      <th>2</th>\n",
              "      <td>005f35d2daeb6f48bdb13fbd8c6a2522</td>\n",
              "      <td>4.062500</td>\n",
              "      <td>5</td>\n",
              "    </tr>\n",
              "    <tr>\n",
              "      <th>3</th>\n",
              "      <td>006c959ba748bfa5f48fa5fa989322c6</td>\n",
              "      <td>4.933333</td>\n",
              "      <td>5</td>\n",
              "    </tr>\n",
              "    <tr>\n",
              "      <th>4</th>\n",
              "      <td>0071b2ff88ae4de512e97640a7f49698</td>\n",
              "      <td>3.882353</td>\n",
              "      <td>4</td>\n",
              "    </tr>\n",
              "  </tbody>\n",
              "</table>\n",
              "</div>"
            ],
            "text/plain": [
              "                            user_id   Average  Mode\n",
              "0  0017507d4413a03fbfa5848972658206  3.324324     4\n",
              "1  002ebed2a6bd926cbf41313ebd8cfaba  4.219512     5\n",
              "2  005f35d2daeb6f48bdb13fbd8c6a2522  4.062500     5\n",
              "3  006c959ba748bfa5f48fa5fa989322c6  4.933333     5\n",
              "4  0071b2ff88ae4de512e97640a7f49698  3.882353     4"
            ]
          },
          "metadata": {
            "tags": []
          },
          "execution_count": 57
        }
      ]
    },
    {
      "cell_type": "code",
      "metadata": {
        "colab": {
          "base_uri": "https://localhost:8080/",
          "height": 416
        },
        "id": "2OhQU2llxgIg",
        "outputId": "faa479a4-312b-4ad3-eabe-85c477708fd7"
      },
      "source": [
        "# join the average and mode of each user to the testset\n",
        "testset_base_rate = pd.merge(testset_df, base_rate, left_on = 'user_id', right_on = 'user_id', how = 'left')\n",
        "testset_base_rate"
      ],
      "id": "2OhQU2llxgIg",
      "execution_count": null,
      "outputs": [
        {
          "output_type": "execute_result",
          "data": {
            "text/html": [
              "<div>\n",
              "<style scoped>\n",
              "    .dataframe tbody tr th:only-of-type {\n",
              "        vertical-align: middle;\n",
              "    }\n",
              "\n",
              "    .dataframe tbody tr th {\n",
              "        vertical-align: top;\n",
              "    }\n",
              "\n",
              "    .dataframe thead th {\n",
              "        text-align: right;\n",
              "    }\n",
              "</style>\n",
              "<table border=\"1\" class=\"dataframe\">\n",
              "  <thead>\n",
              "    <tr style=\"text-align: right;\">\n",
              "      <th></th>\n",
              "      <th>user_id</th>\n",
              "      <th>book_id</th>\n",
              "      <th>rating</th>\n",
              "      <th>Average</th>\n",
              "      <th>Mode</th>\n",
              "    </tr>\n",
              "  </thead>\n",
              "  <tbody>\n",
              "    <tr>\n",
              "      <th>0</th>\n",
              "      <td>3496b6c3b52e81078aa5bddb5b542846</td>\n",
              "      <td>10910023</td>\n",
              "      <td>5.0</td>\n",
              "      <td>4.097561</td>\n",
              "      <td>5</td>\n",
              "    </tr>\n",
              "    <tr>\n",
              "      <th>1</th>\n",
              "      <td>15fbcee51d8ab709f3d3902385135afd</td>\n",
              "      <td>23296297</td>\n",
              "      <td>5.0</td>\n",
              "      <td>4.170732</td>\n",
              "      <td>4</td>\n",
              "    </tr>\n",
              "    <tr>\n",
              "      <th>2</th>\n",
              "      <td>cf1dc5779d74aab50f4ef944c4a4de34</td>\n",
              "      <td>71654</td>\n",
              "      <td>4.0</td>\n",
              "      <td>3.500000</td>\n",
              "      <td>4</td>\n",
              "    </tr>\n",
              "    <tr>\n",
              "      <th>3</th>\n",
              "      <td>2dfa7627f1c9330576360b4bfb24f6f6</td>\n",
              "      <td>6387626</td>\n",
              "      <td>5.0</td>\n",
              "      <td>4.303030</td>\n",
              "      <td>5</td>\n",
              "    </tr>\n",
              "    <tr>\n",
              "      <th>4</th>\n",
              "      <td>b45650498882a0b4697c02cbc4f798d2</td>\n",
              "      <td>270903</td>\n",
              "      <td>4.0</td>\n",
              "      <td>4.270270</td>\n",
              "      <td>4</td>\n",
              "    </tr>\n",
              "    <tr>\n",
              "      <th>...</th>\n",
              "      <td>...</td>\n",
              "      <td>...</td>\n",
              "      <td>...</td>\n",
              "      <td>...</td>\n",
              "      <td>...</td>\n",
              "    </tr>\n",
              "    <tr>\n",
              "      <th>26611</th>\n",
              "      <td>a9fc156001420b0d86ab40c25dcf5a45</td>\n",
              "      <td>223394</td>\n",
              "      <td>4.0</td>\n",
              "      <td>4.078652</td>\n",
              "      <td>5</td>\n",
              "    </tr>\n",
              "    <tr>\n",
              "      <th>26612</th>\n",
              "      <td>058d86a24d8ed0516eca00476ae21a75</td>\n",
              "      <td>7824768</td>\n",
              "      <td>1.0</td>\n",
              "      <td>3.260163</td>\n",
              "      <td>4</td>\n",
              "    </tr>\n",
              "    <tr>\n",
              "      <th>26613</th>\n",
              "      <td>7223a2518662840ed8c51c0efcd04e8f</td>\n",
              "      <td>6100917</td>\n",
              "      <td>4.0</td>\n",
              "      <td>3.880000</td>\n",
              "      <td>4</td>\n",
              "    </tr>\n",
              "    <tr>\n",
              "      <th>26614</th>\n",
              "      <td>084fb44abaabe412992ef746073fa7fc</td>\n",
              "      <td>20413</td>\n",
              "      <td>4.0</td>\n",
              "      <td>3.903226</td>\n",
              "      <td>4</td>\n",
              "    </tr>\n",
              "    <tr>\n",
              "      <th>26615</th>\n",
              "      <td>7d7335620d52f8b5be58eb538cb71dde</td>\n",
              "      <td>6656</td>\n",
              "      <td>5.0</td>\n",
              "      <td>4.911765</td>\n",
              "      <td>5</td>\n",
              "    </tr>\n",
              "  </tbody>\n",
              "</table>\n",
              "<p>26616 rows × 5 columns</p>\n",
              "</div>"
            ],
            "text/plain": [
              "                                user_id   book_id  rating   Average  Mode\n",
              "0      3496b6c3b52e81078aa5bddb5b542846  10910023     5.0  4.097561     5\n",
              "1      15fbcee51d8ab709f3d3902385135afd  23296297     5.0  4.170732     4\n",
              "2      cf1dc5779d74aab50f4ef944c4a4de34     71654     4.0  3.500000     4\n",
              "3      2dfa7627f1c9330576360b4bfb24f6f6   6387626     5.0  4.303030     5\n",
              "4      b45650498882a0b4697c02cbc4f798d2    270903     4.0  4.270270     4\n",
              "...                                 ...       ...     ...       ...   ...\n",
              "26611  a9fc156001420b0d86ab40c25dcf5a45    223394     4.0  4.078652     5\n",
              "26612  058d86a24d8ed0516eca00476ae21a75   7824768     1.0  3.260163     4\n",
              "26613  7223a2518662840ed8c51c0efcd04e8f   6100917     4.0  3.880000     4\n",
              "26614  084fb44abaabe412992ef746073fa7fc     20413     4.0  3.903226     4\n",
              "26615  7d7335620d52f8b5be58eb538cb71dde      6656     5.0  4.911765     5\n",
              "\n",
              "[26616 rows x 5 columns]"
            ]
          },
          "metadata": {
            "tags": []
          },
          "execution_count": 58
        }
      ]
    },
    {
      "cell_type": "code",
      "metadata": {
        "id": "OPY7wuiR2fg7"
      },
      "source": [
        "# import the functions calculating RMSE & MAE\n",
        "from sklearn.metrics import mean_squared_error\n",
        "from sklearn.metrics import mean_absolute_error"
      ],
      "id": "OPY7wuiR2fg7",
      "execution_count": null,
      "outputs": []
    },
    {
      "cell_type": "code",
      "metadata": {
        "colab": {
          "base_uri": "https://localhost:8080/"
        },
        "id": "5oEIZE1y21S7",
        "outputId": "2aa06566-f298-4f21-cdc4-0d7234a2611b"
      },
      "source": [
        "# calculate the base rate\n",
        "print('When predict by the historical average rating of each user:')\n",
        "print('RMSE', mean_squared_error(y_true = testset_base_rate['rating'], y_pred = testset_base_rate['Average'], squared = False).round(4))\n",
        "print('MAE', mean_absolute_error(y_true = testset_base_rate['rating'], y_pred = testset_base_rate['Average']).round(4))\n",
        "print('\\n')\n",
        "print('When predict by the mode of historical ratings of each user:')\n",
        "print('RMSE', mean_squared_error(y_true = testset_base_rate['rating'], y_pred = testset_base_rate['Mode'], squared = False).round(4))\n",
        "print('MAE', mean_absolute_error(y_true = testset_base_rate['rating'], y_pred = testset_base_rate['Mode']).round(4))"
      ],
      "id": "5oEIZE1y21S7",
      "execution_count": null,
      "outputs": [
        {
          "output_type": "stream",
          "text": [
            "When predict by the historical average rating of each user:\n",
            "RMSE 0.8419\n",
            "MAE 0.6472\n",
            "\n",
            "\n",
            "When predict by the mode of historical ratings of each user:\n",
            "RMSE 1.0066\n",
            "MAE 0.6363\n"
          ],
          "name": "stdout"
        }
      ]
    },
    {
      "cell_type": "code",
      "metadata": {
        "colab": {
          "base_uri": "https://localhost:8080/"
        },
        "id": "pXyVDttu5ANy",
        "outputId": "4a4df70f-1f8c-4bf4-b7a2-6a53e389f53d"
      },
      "source": [
        "# recall the loss of the model predictions\n",
        "\n",
        "# RMSE of the test set\n",
        "accuracy.rmse(predictions);\n",
        "\n",
        "# MAE of the test set\n",
        "accuracy.mae(predictions);"
      ],
      "id": "pXyVDttu5ANy",
      "execution_count": null,
      "outputs": [
        {
          "output_type": "stream",
          "text": [
            "RMSE: 0.8119\n",
            "MAE:  0.6284\n"
          ],
          "name": "stdout"
        }
      ]
    },
    {
      "cell_type": "markdown",
      "metadata": {
        "id": "UDrnxfqKtoml"
      },
      "source": [
        "The prediction model performs better than the base rate, with RMSE 0.03-0.19 lower and MAE 0.01-0.02 lower.\n",
        "\n",
        "We will optimize these errors by hyperparameter tuning."
      ],
      "id": "UDrnxfqKtoml"
    },
    {
      "cell_type": "markdown",
      "metadata": {
        "id": "Ch5-5wQkv75C"
      },
      "source": [
        "### Hyperparameter Tuning"
      ],
      "id": "Ch5-5wQkv75C"
    },
    {
      "cell_type": "markdown",
      "metadata": {
        "id": "nZiM2XDf6hpU"
      },
      "source": [
        "#### Single Parameter - Visualization"
      ],
      "id": "nZiM2XDf6hpU"
    },
    {
      "cell_type": "markdown",
      "metadata": {
        "id": "0178LPSRD9jD"
      },
      "source": [
        "When working with `sklearn`, we used to first split the data into train and test set, and then use the train set to fit and optimize the model through cross validation. However, `surprise` is a package specifically designed for recommender systems, which are usually evaluated in a different way.\n",
        "\n",
        "Datasets in `surprise` have the format `surprise.dataset.DatasetAutoFolds`, which can be fit into `surprise.model_selection.cross_validate`.\n",
        "\n",
        "However, `surprise.model_selection.train_test_split` converts the trainset into another format, `surprise.trainset.Trainset`, which can no longer be fit into the cross validation function, for hyperparameter tuning purpose.\n",
        "\n",
        "If we split the sets using `sklearn.mode_selection.train_test_split` or manully, they will be in `surprise.dataset.DatasetAutoFolds` format, and can't be used for fitting the model or making predictions.\n",
        "\n",
        "Therefore, we will first split the data into train and test set, to see the evaluation (RMSE/MAE) under the initial model. Then, we will use the entire dataset for cross validation, to optimize the hyperparameters. At last, a full train set will be built based on the entire known dataset. A full test set will also be generated representing all the empty elements in the utility matrix, so we can make the prediction from it."
      ],
      "id": "0178LPSRD9jD"
    },
    {
      "cell_type": "code",
      "metadata": {
        "colab": {
          "base_uri": "https://localhost:8080/"
        },
        "id": "ERJFQNh-Ezpc",
        "outputId": "f4d384ef-ca20-43f0-f4a3-a9ecda2060fa"
      },
      "source": [
        "# datatype of the entire dataset\n",
        "type(data)"
      ],
      "id": "ERJFQNh-Ezpc",
      "execution_count": null,
      "outputs": [
        {
          "output_type": "execute_result",
          "data": {
            "text/plain": [
              "surprise.dataset.DatasetAutoFolds"
            ]
          },
          "metadata": {
            "tags": []
          },
          "execution_count": 62
        }
      ]
    },
    {
      "cell_type": "code",
      "metadata": {
        "colab": {
          "base_uri": "https://localhost:8080/"
        },
        "id": "_VMIUx2XE2Gk",
        "outputId": "66c96bd8-eac3-41e2-975b-816b32751174"
      },
      "source": [
        "# datatype of the splitted trainset\n",
        "type(trainset)"
      ],
      "id": "_VMIUx2XE2Gk",
      "execution_count": null,
      "outputs": [
        {
          "output_type": "execute_result",
          "data": {
            "text/plain": [
              "surprise.trainset.Trainset"
            ]
          },
          "metadata": {
            "tags": []
          },
          "execution_count": 63
        }
      ]
    },
    {
      "cell_type": "code",
      "metadata": {
        "colab": {
          "base_uri": "https://localhost:8080/"
        },
        "id": "xmuyD50WE67C",
        "outputId": "b3b13381-802c-476a-cebd-750737070b82"
      },
      "source": [
        "# trainset datatype can't be used for cross validation\n",
        "try:\n",
        "  cross_validate(SVD(), trainset)\n",
        "except:\n",
        "  print(\"AttributeError: 'Trainset' object has no attribute 'raw_ratings'\")"
      ],
      "id": "xmuyD50WE67C",
      "execution_count": null,
      "outputs": [
        {
          "output_type": "stream",
          "text": [
            "AttributeError: 'Trainset' object has no attribute 'raw_ratings'\n"
          ],
          "name": "stdout"
        }
      ]
    },
    {
      "cell_type": "code",
      "metadata": {
        "colab": {
          "base_uri": "https://localhost:8080/"
        },
        "id": "cUQck0GqFQ0L",
        "outputId": "6dba1885-bc74-4335-c659-173e9f90a661"
      },
      "source": [
        "# data datatype can't be used for fitting the model (as a trainset)\n",
        "algo = SVD()\n",
        "try:\n",
        "  algo.fit(data)\n",
        "except:\n",
        "  print(\"DatasetAutoFolds' object has no attribute 'global_mean\")"
      ],
      "id": "cUQck0GqFQ0L",
      "execution_count": null,
      "outputs": [
        {
          "output_type": "stream",
          "text": [
            "DatasetAutoFolds' object has no attribute 'global_mean\n"
          ],
          "name": "stdout"
        }
      ]
    },
    {
      "cell_type": "markdown",
      "metadata": {
        "id": "m4rqA8urD6em"
      },
      "source": [
        "For `SVD()`, we can search for the optimal `n_factors`, the number of latent factors."
      ],
      "id": "m4rqA8urD6em"
    },
    {
      "cell_type": "code",
      "metadata": {
        "id": "GjXxP0cCy1UL"
      },
      "source": [
        "# generates a list of loss (RMSE by default) through a series of n_factors\n",
        "\n",
        "def loss_by_factors(data, algorithm, loss_type = 'RMSE', min_n_factors = 1, max_n_factors = 50, step_n_factors = 1, list_n_factors = None, cv = 5):\n",
        "\n",
        "  '''\n",
        "  generates a list of loss (RMSE by default) through a series of n_factors\n",
        "\n",
        "  Parameters\n",
        "  ---\n",
        "  algorithm: a surprise matrix factorization algorithm, a function\n",
        "  data: a surprise dataset\n",
        "  loss_type: the type of loss to be calculated, a string, default = 'RMSE'\n",
        "  min_n_factors: the minimum n_factors to be calculated for loss, an integer, default = 1\n",
        "  max_n_factors: the maximum n_factors to be calculated for loss (inclusive), an integer, default = 51\n",
        "  step_n_factors: the incrementation, an integer, default = 1\n",
        "  list_n_factors: a list of specified n_factors, a list of integers, default = None\n",
        "  cv: number of folds, an integer, default = 5\n",
        "  \n",
        "  If list_n_factors is not None, the function will calculate based on the values in list_n_factors\n",
        "  If list_n_factors is None, the function will calculate based on the values of min_n_factors, max_n_factors, step_n_factors\n",
        "\n",
        "  \n",
        "  Returns\n",
        "  ---\n",
        "  loss_list: a list of calculated loss, a list of floats\n",
        "\n",
        "  Example\n",
        "  ---\n",
        "  >>>> loss_by_factors(algorithm = SVD, data, loss_type = 'RMSE', list_n_factors = [1, 2, 3])\n",
        "  [0.5, 0.7, 0.22]\n",
        "  '''\n",
        "\n",
        "  # assert the datatype of inputs\n",
        "  # algorithm and data will have build-in error messages if the format is incorrect\n",
        "  assert isinstance(loss_type, str), 'loss_type must be a string'\n",
        "  assert (isinstance(min_n_factors, int)) & (min_n_factors > 0), 'min_n_factors must be a positive integer'\n",
        "  assert (isinstance(max_n_factors, int)) & (max_n_factors > min_n_factors), 'max_n_factors must be an integer larger than min_n_factors'\n",
        "  assert (isinstance(step_n_factors, int)) & (step_n_factors > 0), 'step_n_factors must be a positive integer'\n",
        "\n",
        "  if list_n_factors != None:\n",
        "    assert isinstance(list_n_factors, list), 'list_n_factors must be a list or None'\n",
        "    assert all((isinstance(item, int)) & (item > 0) for item in list_n_factors), 'list_n_factors must only contain positive integers'\n",
        "\n",
        "  assert (isinstance(cv, int) & (cv > 0)), 'cv must be a positive integer'\n",
        "\n",
        "  \n",
        "  # create an empty list for the loss arcoss a series of factors\n",
        "  loss_list = []\n",
        "  result_column_name = 'test_' + loss_type.lower()\n",
        "\n",
        "  # determine the range of the loop by input parameters\n",
        "  if list_n_factors == None:\n",
        "    n_factors_range = range(min_n_factors, max_n_factors + 1, step_n_factors) # max_n_factors is inclusive\n",
        "  else:\n",
        "    n_factors_range = list_n_factors\n",
        "\n",
        "  # print an update\n",
        "  print('Generating the ' + loss_type + ' for n_factors in:')\n",
        "  print(n_factors_range)\n",
        "\n",
        "  # loop through the range of n_factors\n",
        "  for n in n_factors_range:\n",
        "    \n",
        "    # print an update\n",
        "    print(f'Calculating n_factors = {n} ...')\n",
        "    \n",
        "    # initiate the algorithm\n",
        "    algo = algorithm(n_factors = n)\n",
        "    \n",
        "    # cross validate and take the mean of loss\n",
        "    loss = cross_validate(algo, data, measures = [loss_type], cv = cv)[result_column_name].mean()\n",
        "    loss_list.append(loss)\n",
        "\n",
        "  print('\\n')\n",
        "  \n",
        "  return loss_list"
      ],
      "id": "GjXxP0cCy1UL",
      "execution_count": 39,
      "outputs": []
    },
    {
      "cell_type": "code",
      "metadata": {
        "colab": {
          "base_uri": "https://localhost:8080/"
        },
        "id": "TnDjzBgD62oO",
        "outputId": "28dd1a78-0df9-40a9-a7de-c0e2ea943042"
      },
      "source": [
        "RMSE_list = loss_by_factors(data, algorithm = SVD, loss_type = 'RMSE')\n",
        "MAE_list = loss_by_factors(data, algorithm = SVD, loss_type = 'MAE')"
      ],
      "id": "TnDjzBgD62oO",
      "execution_count": 40,
      "outputs": [
        {
          "output_type": "stream",
          "text": [
            "Generating the RMSE for n_factors in:\n",
            "range(1, 51)\n",
            "Calculating n_factors = 1 ...\n",
            "Calculating n_factors = 2 ...\n",
            "Calculating n_factors = 3 ...\n",
            "Calculating n_factors = 4 ...\n",
            "Calculating n_factors = 5 ...\n",
            "Calculating n_factors = 6 ...\n",
            "Calculating n_factors = 7 ...\n",
            "Calculating n_factors = 8 ...\n",
            "Calculating n_factors = 9 ...\n",
            "Calculating n_factors = 10 ...\n",
            "Calculating n_factors = 11 ...\n",
            "Calculating n_factors = 12 ...\n",
            "Calculating n_factors = 13 ...\n",
            "Calculating n_factors = 14 ...\n",
            "Calculating n_factors = 15 ...\n",
            "Calculating n_factors = 16 ...\n",
            "Calculating n_factors = 17 ...\n",
            "Calculating n_factors = 18 ...\n",
            "Calculating n_factors = 19 ...\n",
            "Calculating n_factors = 20 ...\n",
            "Calculating n_factors = 21 ...\n",
            "Calculating n_factors = 22 ...\n",
            "Calculating n_factors = 23 ...\n",
            "Calculating n_factors = 24 ...\n",
            "Calculating n_factors = 25 ...\n",
            "Calculating n_factors = 26 ...\n",
            "Calculating n_factors = 27 ...\n",
            "Calculating n_factors = 28 ...\n",
            "Calculating n_factors = 29 ...\n",
            "Calculating n_factors = 30 ...\n",
            "Calculating n_factors = 31 ...\n",
            "Calculating n_factors = 32 ...\n",
            "Calculating n_factors = 33 ...\n",
            "Calculating n_factors = 34 ...\n",
            "Calculating n_factors = 35 ...\n",
            "Calculating n_factors = 36 ...\n",
            "Calculating n_factors = 37 ...\n",
            "Calculating n_factors = 38 ...\n",
            "Calculating n_factors = 39 ...\n",
            "Calculating n_factors = 40 ...\n",
            "Calculating n_factors = 41 ...\n",
            "Calculating n_factors = 42 ...\n",
            "Calculating n_factors = 43 ...\n",
            "Calculating n_factors = 44 ...\n",
            "Calculating n_factors = 45 ...\n",
            "Calculating n_factors = 46 ...\n",
            "Calculating n_factors = 47 ...\n",
            "Calculating n_factors = 48 ...\n",
            "Calculating n_factors = 49 ...\n",
            "Calculating n_factors = 50 ...\n",
            "\n",
            "\n",
            "Generating the MAE for n_factors in:\n",
            "range(1, 51)\n",
            "Calculating n_factors = 1 ...\n",
            "Calculating n_factors = 2 ...\n",
            "Calculating n_factors = 3 ...\n",
            "Calculating n_factors = 4 ...\n",
            "Calculating n_factors = 5 ...\n",
            "Calculating n_factors = 6 ...\n",
            "Calculating n_factors = 7 ...\n",
            "Calculating n_factors = 8 ...\n",
            "Calculating n_factors = 9 ...\n",
            "Calculating n_factors = 10 ...\n",
            "Calculating n_factors = 11 ...\n",
            "Calculating n_factors = 12 ...\n",
            "Calculating n_factors = 13 ...\n",
            "Calculating n_factors = 14 ...\n",
            "Calculating n_factors = 15 ...\n",
            "Calculating n_factors = 16 ...\n",
            "Calculating n_factors = 17 ...\n",
            "Calculating n_factors = 18 ...\n",
            "Calculating n_factors = 19 ...\n",
            "Calculating n_factors = 20 ...\n",
            "Calculating n_factors = 21 ...\n",
            "Calculating n_factors = 22 ...\n",
            "Calculating n_factors = 23 ...\n",
            "Calculating n_factors = 24 ...\n",
            "Calculating n_factors = 25 ...\n",
            "Calculating n_factors = 26 ...\n",
            "Calculating n_factors = 27 ...\n",
            "Calculating n_factors = 28 ...\n",
            "Calculating n_factors = 29 ...\n",
            "Calculating n_factors = 30 ...\n",
            "Calculating n_factors = 31 ...\n",
            "Calculating n_factors = 32 ...\n",
            "Calculating n_factors = 33 ...\n",
            "Calculating n_factors = 34 ...\n",
            "Calculating n_factors = 35 ...\n",
            "Calculating n_factors = 36 ...\n",
            "Calculating n_factors = 37 ...\n",
            "Calculating n_factors = 38 ...\n",
            "Calculating n_factors = 39 ...\n",
            "Calculating n_factors = 40 ...\n",
            "Calculating n_factors = 41 ...\n",
            "Calculating n_factors = 42 ...\n",
            "Calculating n_factors = 43 ...\n",
            "Calculating n_factors = 44 ...\n",
            "Calculating n_factors = 45 ...\n",
            "Calculating n_factors = 46 ...\n",
            "Calculating n_factors = 47 ...\n",
            "Calculating n_factors = 48 ...\n",
            "Calculating n_factors = 49 ...\n",
            "Calculating n_factors = 50 ...\n",
            "\n",
            "\n"
          ],
          "name": "stdout"
        }
      ]
    },
    {
      "cell_type": "markdown",
      "metadata": {
        "id": "wHHRzty7c1f6"
      },
      "source": [
        "After generating a list of RMSE and MAE across different `n_factors`, we can plot these values to visualize the best option."
      ],
      "id": "wHHRzty7c1f6"
    },
    {
      "cell_type": "code",
      "metadata": {
        "id": "06vlQSzXVU2t"
      },
      "source": [
        "# plot the mean RMSE and MAE through a series of n_factors\n",
        "\n",
        "def plot_losses(losses, labels):\n",
        "  '''\n",
        "  Parameters\n",
        "  ---\n",
        "  losses: a list of loss lists to plot iterately\n",
        "  labels: a list of names of the items in losses, in the same order e.g. ['RMSE', 'MAE']\n",
        "  '''\n",
        "\n",
        "  # number of items in losses\n",
        "  n = len(losses)\n",
        "\n",
        "  # set figure size based on n\n",
        "  plt.figure(figsize=(12, 4 * n))\n",
        "\n",
        "  # loop through items in losses\n",
        "  for i in range(n):\n",
        "\n",
        "    # plot the loss\n",
        "    plt.subplot(n, 1, i + 1)\n",
        "    plt.plot(losses[i])\n",
        "    plt.ylabel(labels[i])\n",
        "\n",
        "    # label the minimum value\n",
        "    plt.axvline(np.argmin(losses[i]), color = \"r\")\n",
        "\n",
        "    # add the title at the top\n",
        "    if i == 0:\n",
        "      plt.title('Looking for the optimal n_factors')\n",
        "\n",
        "    # add the x label at the bottom\n",
        "    if i == n - 1:\n",
        "      plt.xlabel('n_factors in SVD()')\n",
        "  plt.show()\n",
        "\n",
        "  print('The lower the loss, the better the model.')"
      ],
      "id": "06vlQSzXVU2t",
      "execution_count": 41,
      "outputs": []
    },
    {
      "cell_type": "code",
      "metadata": {
        "id": "eRH8yEFpY5RR",
        "colab": {
          "base_uri": "https://localhost:8080/",
          "height": 530
        },
        "outputId": "730fc1db-85f5-4cdc-cd6f-27704267ef52"
      },
      "source": [
        "plot_losses([RMSE_list, MAE_list], ['RMSE', 'MAE'])"
      ],
      "id": "eRH8yEFpY5RR",
      "execution_count": 42,
      "outputs": [
        {
          "output_type": "display_data",
          "data": {
            "image/png": "[encoded data removed]",
            "text/plain": [
              "<Figure size 864x576 with 2 Axes>"
            ]
          },
          "metadata": {
            "tags": [],
            "needs_background": "light"
          }
        },
        {
          "output_type": "stream",
          "text": [
            "The lower the loss, the better the model.\n"
          ],
          "name": "stdout"
        }
      ]
    },
    {
      "cell_type": "markdown",
      "metadata": {
        "id": "79ZguwJZdCLi"
      },
      "source": [
        "From the visualization, we can see the model has the lowest `RMSE` when `n_factors = 7`, and the lowest `MAE` when `n_factors = 4`.\n",
        "\n",
        "Note: each value plotted is the mean value from a 5-fold cross validation. The minimum value could change slightly due to the randomness of cross validation."
      ],
      "id": "79ZguwJZdCLi"
    },
    {
      "cell_type": "markdown",
      "metadata": {
        "id": "MyHhM-b4eCUS"
      },
      "source": [
        "#### Multiple parameters - Grid Search"
      ],
      "id": "MyHhM-b4eCUS"
    },
    {
      "cell_type": "markdown",
      "metadata": {
        "id": "9EtzB9Iqd0Wi"
      },
      "source": [
        "If we want to take one more step and optimize more hyperparameters, we can use a grid search."
      ],
      "id": "9EtzB9Iqd0Wi"
    },
    {
      "cell_type": "code",
      "metadata": {
        "id": "lQgoxehsuFI_",
        "colab": {
          "base_uri": "https://localhost:8080/"
        },
        "outputId": "daa344d6-37f4-40cd-bd30-a23f2039e7d8"
      },
      "source": [
        "# write the grid search parameters\n",
        "param_grid = {'n_factors': range(3, 10), # default 100, range referenced from previous visualization\n",
        "              'n_epochs': [10, 15, 20, 25, 30, 40, 50], # default 20\n",
        "              'lr_all': [0.002, 0.005, 0.008]} # default 0.005\n",
        "\n",
        "# initiate the grid search\n",
        "gs = GridSearchCV(SVD, param_grid, measures=['rmse', 'mae'], cv=3, n_jobs = -1, joblib_verbose = 10)\n",
        "\n",
        "# fit the grid search \n",
        "gs.fit(data)  "
      ],
      "id": "lQgoxehsuFI_",
      "execution_count": 46,
      "outputs": [
        {
          "output_type": "stream",
          "text": [
            "[Parallel(n_jobs=-1)]: Using backend LokyBackend with 2 concurrent workers.\n",
            "[Parallel(n_jobs=-1)]: Done   1 tasks      | elapsed:    5.8s\n",
            "[Parallel(n_jobs=-1)]: Done   4 tasks      | elapsed:   16.1s\n",
            "[Parallel(n_jobs=-1)]: Done   9 tasks      | elapsed:   33.3s\n",
            "[Parallel(n_jobs=-1)]: Done  14 tasks      | elapsed:   52.5s\n",
            "[Parallel(n_jobs=-1)]: Done  21 tasks      | elapsed:  1.3min\n",
            "[Parallel(n_jobs=-1)]: Done  28 tasks      | elapsed:  1.8min\n",
            "[Parallel(n_jobs=-1)]: Done  37 tasks      | elapsed:  2.5min\n",
            "[Parallel(n_jobs=-1)]: Done  46 tasks      | elapsed:  3.2min\n",
            "[Parallel(n_jobs=-1)]: Done  57 tasks      | elapsed:  4.2min\n",
            "[Parallel(n_jobs=-1)]: Done  68 tasks      | elapsed:  5.0min\n",
            "[Parallel(n_jobs=-1)]: Done  81 tasks      | elapsed:  5.8min\n",
            "[Parallel(n_jobs=-1)]: Done  94 tasks      | elapsed:  6.7min\n",
            "[Parallel(n_jobs=-1)]: Done 109 tasks      | elapsed:  7.9min\n",
            "[Parallel(n_jobs=-1)]: Done 124 tasks      | elapsed:  9.3min\n",
            "[Parallel(n_jobs=-1)]: Done 141 tasks      | elapsed: 10.3min\n",
            "[Parallel(n_jobs=-1)]: Done 158 tasks      | elapsed: 11.5min\n",
            "[Parallel(n_jobs=-1)]: Done 177 tasks      | elapsed: 13.0min\n",
            "[Parallel(n_jobs=-1)]: Done 196 tasks      | elapsed: 14.5min\n",
            "[Parallel(n_jobs=-1)]: Done 217 tasks      | elapsed: 15.9min\n",
            "[Parallel(n_jobs=-1)]: Done 238 tasks      | elapsed: 17.6min\n",
            "[Parallel(n_jobs=-1)]: Done 261 tasks      | elapsed: 19.4min\n",
            "[Parallel(n_jobs=-1)]: Done 284 tasks      | elapsed: 20.9min\n",
            "[Parallel(n_jobs=-1)]: Done 309 tasks      | elapsed: 23.1min\n",
            "[Parallel(n_jobs=-1)]: Done 334 tasks      | elapsed: 24.8min\n",
            "[Parallel(n_jobs=-1)]: Done 361 tasks      | elapsed: 26.9min\n",
            "[Parallel(n_jobs=-1)]: Done 388 tasks      | elapsed: 29.1min\n",
            "[Parallel(n_jobs=-1)]: Done 417 tasks      | elapsed: 31.2min\n",
            "[Parallel(n_jobs=-1)]: Done 441 out of 441 | elapsed: 33.4min finished\n"
          ],
          "name": "stderr"
        }
      ]
    },
    {
      "cell_type": "code",
      "metadata": {
        "id": "gI9yOykgIP_D",
        "colab": {
          "base_uri": "https://localhost:8080/"
        },
        "outputId": "860ad1a1-b405-4f88-f28b-1504bf43e7fd"
      },
      "source": [
        "# best RMSE score\n",
        "print(gs.best_score['rmse'])\n",
        "\n",
        "# combination of parameters that gave the best RMSE score\n",
        "print(gs.best_params['rmse'])"
      ],
      "id": "gI9yOykgIP_D",
      "execution_count": 47,
      "outputs": [
        {
          "output_type": "stream",
          "text": [
            "0.8112422912006326\n",
            "{'n_factors': 3, 'n_epochs': 50, 'lr_all': 0.002}\n"
          ],
          "name": "stdout"
        }
      ]
    },
    {
      "cell_type": "code",
      "metadata": {
        "id": "Qej4KSIKIQlE",
        "colab": {
          "base_uri": "https://localhost:8080/"
        },
        "outputId": "24bf916f-6634-484d-c257-294f552a4d4a"
      },
      "source": [
        "# best MAE score\n",
        "print(gs.best_score['mae'])\n",
        "\n",
        "# combination of parameters that gave the best MAE score\n",
        "print(gs.best_params['mae'])"
      ],
      "id": "Qej4KSIKIQlE",
      "execution_count": 48,
      "outputs": [
        {
          "output_type": "stream",
          "text": [
            "0.6256204225890918\n",
            "{'n_factors': 3, 'n_epochs': 40, 'lr_all': 0.005}\n"
          ],
          "name": "stdout"
        }
      ]
    },
    {
      "cell_type": "markdown",
      "metadata": {
        "id": "3jfnTH3tdwP-"
      },
      "source": [
        "Although these scores are not much different from our initial model, it should be noted that the initial model is fitted on the training set, which contains about 80% of the data. This model instead is trained on all the known value.\n",
        "\n",
        "We'll take the combination of hyperparameters from the best MAE score to construct our optimal model."
      ],
      "id": "3jfnTH3tdwP-"
    },
    {
      "cell_type": "markdown",
      "metadata": {
        "id": "00VhwRq46tiu"
      },
      "source": [
        "### Optimal Model\n",
        "\n",
        "With the best hyperparameters, we can now rebuild the model and make predictions for all the empty elements in the utility matrix."
      ],
      "id": "00VhwRq46tiu"
    },
    {
      "cell_type": "code",
      "metadata": {
        "id": "H9oGdCmTry3h"
      },
      "source": [
        "# builds the training set from the entire data set, instead of splitting it\n",
        "full_trainset = data.build_full_trainset()\n",
        "\n",
        "# re-model with the optimal hyperparameters to predict values for empty elements\n",
        "best_svd = SVD(n_factors = 3, n_epochs = 40, lr_all = 0.005)\n",
        "best_svd.fit(full_trainset)\n",
        "\n",
        "# returns a list of ratings (testset) that are not in the trainset or in the entire utility matrix\n",
        "full_testset = full_trainset.build_anti_testset()\n",
        "\n",
        "predictions = best_svd.test(full_testset)"
      ],
      "id": "H9oGdCmTry3h",
      "execution_count": 49,
      "outputs": []
    },
    {
      "cell_type": "code",
      "metadata": {
        "id": "VNEM5ET9VSoV"
      },
      "source": [
        "# output the df for the interactive app\n",
        "\n",
        "# pd.DataFrame(predictions)[['uid', 'iid', 'est']].to_csv('/content/drive/MyDrive/BrainStation Capstone/pred.csv')\n",
        "# pd.DataFrame(Books).to_csv('/content/drive/MyDrive/BrainStation Capstone/Books.csv')\n",
        "# pd.DataFrame(df).to_csv('/content/drive/MyDrive/BrainStation Capstone/ratings.csv')"
      ],
      "id": "VNEM5ET9VSoV",
      "execution_count": 50,
      "outputs": []
    },
    {
      "cell_type": "markdown",
      "metadata": {
        "id": "3WRq9wvaMSBV"
      },
      "source": [
        "With the `predictions` matrix, we can write a function to generate a list of recommended books for a given (existing) user."
      ],
      "id": "3WRq9wvaMSBV"
    },
    {
      "cell_type": "code",
      "metadata": {
        "id": "CG0RSf2TQeyd"
      },
      "source": [
        "# write a function to return a list of recommended books\n",
        "\n",
        "def get_recommendations(predictions, user_id, book_df, ratings_df, num_recommendations = 10):\n",
        "\n",
        "  '''\n",
        "  Parameters\n",
        "  ---\n",
        "  predictions: a list of predictions returned from best_svd.test(testset)\n",
        "  user_id: a user id, a string\n",
        "  book_df: all unique books with book id, title and link, a dataframe \n",
        "  ratings_df: the existing rating records, a dataframe\n",
        "  num_recommendations: the number of recommended books to return, a positive integer, default = 10\n",
        "\n",
        "  Output:\n",
        "  ---\n",
        "  for new users:\n",
        "  print statement and table display\n",
        "  most_popular_books: books with the highest rating sum, a dataframe, number of rows = num_recommendations\n",
        "\n",
        "  for existing users:\n",
        "  print statement and table display\n",
        "  hist_ratings: highest historical ratings of this user, a dataframe, number of rows = num_recommendations\n",
        "  recommendations: the most recommended books for this user, a dataframe, number of rows = num_recommendations\n",
        "\n",
        "  Example\n",
        "  ---\n",
        "  >>>> get_recommendations(predictions, user_id = '123abc', book_df, ratings_df, num_recommendations = 2)\n",
        "\n",
        "  You have rated highly for these books:\n",
        "  +---------+--------+---------+-----------------+\n",
        "  | book_id | rating |  title  |      link       |\n",
        "  +---------+--------+---------+-----------------+\n",
        "  |    1    |    5   | Sample1 | www.sample1.com |\n",
        "  |    2    |    5   | Sample2 | www.sample2.com |\n",
        "  +---------+--------+---------+-----------------+\n",
        "\n",
        "  We think you might like these books:\n",
        "  +---------+------------------+---------+-----------------+\n",
        "  | book_id | predicted rating |  title  |      link       |\n",
        "  +---------+------------------+---------+-----------------+\n",
        "  |    3    |       5.1        | Sample3 | www.sample3.com |\n",
        "  |    4    |       4.9        | Sample4 | www.sample4.com |\n",
        "  +---------+------------------+---------+-----------------+\n",
        "\n",
        "  Note\n",
        "  ---\n",
        "  The `Predicted Rating` column in `recommendations` dataframe is shown for developing purpose\n",
        "  When interacting with actual users, it should not be shown\n",
        "  '''   \n",
        "\n",
        "  # if the user_id doesn't exist in the database, return a list of the most popular books\n",
        "\n",
        "  # a list of all existing users\n",
        "  all_users = ratings_df['user_id'].unique()\n",
        "\n",
        "  if user_id not in all_users:\n",
        "\n",
        "    # sort the books by sum of ratings\n",
        "    most_popular_books = ratings_df.groupby('book_id').sum('rating').sort_values('rating', ascending = False).head(num_recommendations)\n",
        "\n",
        "    # merge the most popular books with the titles and links\n",
        "    most_popular_books_list = pd.merge(most_popular_books, book_df, left_on = 'book_id', \n",
        "                                       right_on = 'book_id', how = 'left').drop('rating', axis = 1)\n",
        "\n",
        "    # display and return    \n",
        "    print('You don\\'t have rating records in our database. Here are some very popular books you might like:')\n",
        "    display(most_popular_books_list)\n",
        "    return most_popular_books_list\n",
        "\n",
        "  # ---------------------------------\n",
        "  # ---------------------------------\n",
        "  \n",
        "  # if the user_id exists in the database, return a list of books rated the highest by this user, and a list of recommended books\n",
        "\n",
        "  # part 1: get hist_ratings\n",
        "\n",
        "  # get all rating records for the given user\n",
        "  hist_user = ratings_df[ratings_df['user_id'] == user_id]\n",
        "\n",
        "  # total number of historical ratings from this user\n",
        "  num_rated = hist_user.shape[0]\n",
        "\n",
        "  # sort the records by ratings and only take the top ones (row number: num_recommendations)\n",
        "  hist_top = hist_user.sort_values('rating', ascending = False).head(num_recommendations)\n",
        "\n",
        "  # if this user has rated less books than num_recommendations, only return the books rated\n",
        "  hist_top = hist_top[hist_top['rating'] != 0]\n",
        "\n",
        "  # merge hist_top with book_df to get titles and links\n",
        "  hist_ratings = pd.merge(hist_top[['book_id', 'rating']], book_df[['title', 'link', 'book_id']], \n",
        "                          left_on = 'book_id', right_on = 'book_id', how = 'left')\n",
        "\n",
        "  # ---------------------------------\n",
        "\n",
        "  # part 2: get recommendations\n",
        "\n",
        "  # put predictions (returned from best_svd.test(testset)) to a dataframe\n",
        "  predictions_df = pd.DataFrame(predictions)\n",
        "\n",
        "  # select the predictions only for the given user\n",
        "  predictions_user = predictions_df[predictions_df['uid'] == user_id]\n",
        "\n",
        "  # sort the predictions and select the top n\n",
        "  top_predictions = predictions_user.sort_values(['est'], ascending = False).head(num_recommendations)\n",
        "\n",
        "  # merge top_predictions with book_df to get titles and links\n",
        "  recommendations = pd.merge(top_predictions[['iid', 'est']], book_df[['title', 'link', 'book_id']], \n",
        "                             left_on = 'iid', right_on = 'book_id', how = 'left')\n",
        "  \n",
        "  # clean up column names\n",
        "  recommendations.drop('book_id', axis = 1, inplace = True)\n",
        "  recommendations.rename(columns = {'est': 'predicted rating',\n",
        "                                    'iid': 'book_id'}, inplace = True)\n",
        "  \n",
        "  # round predicted ratings to 1 decimal place\n",
        "  recommendations['predicted rating'] = recommendations['predicted rating'].apply(lambda x: round(x, 1))\n",
        "    \n",
        "  # display two tables\n",
        "  print(f'You have rated {num_rated} books in total. The more books you rate, the better recommendations we can offer!')\n",
        "  print('\\n')\n",
        "\n",
        "  print('You have rated highly for these books:')\n",
        "  display(hist_ratings)\n",
        "  print('\\n')\n",
        "\n",
        "  print('We think you might like these books:')\n",
        "  display(recommendations)\n",
        "\n",
        "  # return two dataframes for potential further processing\n",
        "  return hist_ratings, recommendations"
      ],
      "id": "CG0RSf2TQeyd",
      "execution_count": 51,
      "outputs": []
    },
    {
      "cell_type": "markdown",
      "metadata": {
        "id": "xfF0du8i7Cm_"
      },
      "source": [
        "# Evaluate the Model"
      ],
      "id": "xfF0du8i7Cm_"
    },
    {
      "cell_type": "markdown",
      "metadata": {
        "id": "ntFWSkuFpTDm"
      },
      "source": [
        "## Test Runs for Existing Users\n",
        "\n",
        "Let's test our recommender system on some existing users!"
      ],
      "id": "ntFWSkuFpTDm"
    },
    {
      "cell_type": "markdown",
      "metadata": {
        "id": "D7aRVN-R1yuu"
      },
      "source": [
        "This user tends to rate highly. The predicted ratings therefore spike too!"
      ],
      "id": "D7aRVN-R1yuu"
    },
    {
      "cell_type": "code",
      "metadata": {
        "id": "zeNwK5A7y5cq",
        "colab": {
          "base_uri": "https://localhost:8080/",
          "height": 506
        },
        "outputId": "2f8404cf-8dc0-448c-8c18-f45e4c9f2659"
      },
      "source": [
        "get_recommendations(predictions, user_id = '35256a4e933aba8390cfd4dfd9573ada', book_df = Books, ratings_df = df, num_recommendations = 5);"
      ],
      "id": "zeNwK5A7y5cq",
      "execution_count": 52,
      "outputs": [
        {
          "output_type": "stream",
          "text": [
            "You have rated 114 books in total. The more books you rate, the better recommendations we can offer!\n",
            "\n",
            "\n",
            "You have rated highly for these books:\n"
          ],
          "name": "stdout"
        },
        {
          "output_type": "display_data",
          "data": {
            "text/html": [
              "<div>\n",
              "<style scoped>\n",
              "    .dataframe tbody tr th:only-of-type {\n",
              "        vertical-align: middle;\n",
              "    }\n",
              "\n",
              "    .dataframe tbody tr th {\n",
              "        vertical-align: top;\n",
              "    }\n",
              "\n",
              "    .dataframe thead th {\n",
              "        text-align: right;\n",
              "    }\n",
              "</style>\n",
              "<table border=\"1\" class=\"dataframe\">\n",
              "  <thead>\n",
              "    <tr style=\"text-align: right;\">\n",
              "      <th></th>\n",
              "      <th>book_id</th>\n",
              "      <th>rating</th>\n",
              "      <th>title</th>\n",
              "      <th>link</th>\n",
              "    </tr>\n",
              "  </thead>\n",
              "  <tbody>\n",
              "    <tr>\n",
              "      <th>0</th>\n",
              "      <td>46199</td>\n",
              "      <td>5</td>\n",
              "      <td>Letters to a Young Poet</td>\n",
              "      <td>https://www.goodreads.com/book/show/46199.Lett...</td>\n",
              "    </tr>\n",
              "    <tr>\n",
              "      <th>1</th>\n",
              "      <td>75506</td>\n",
              "      <td>5</td>\n",
              "      <td>Collected Poetry &amp; Prose</td>\n",
              "      <td>https://www.goodreads.com/book/show/75506.Coll...</td>\n",
              "    </tr>\n",
              "    <tr>\n",
              "      <th>2</th>\n",
              "      <td>16802</td>\n",
              "      <td>5</td>\n",
              "      <td>The Complete Poetry</td>\n",
              "      <td>https://www.goodreads.com/book/show/16802.The_...</td>\n",
              "    </tr>\n",
              "    <tr>\n",
              "      <th>3</th>\n",
              "      <td>59005</td>\n",
              "      <td>5</td>\n",
              "      <td>The Selected Levis</td>\n",
              "      <td>https://www.goodreads.com/book/show/59005.The_...</td>\n",
              "    </tr>\n",
              "    <tr>\n",
              "      <th>4</th>\n",
              "      <td>1258536</td>\n",
              "      <td>5</td>\n",
              "      <td>Poems of Paul Celan</td>\n",
              "      <td>https://www.goodreads.com/book/show/1258536.Po...</td>\n",
              "    </tr>\n",
              "  </tbody>\n",
              "</table>\n",
              "</div>"
            ],
            "text/plain": [
              "   book_id  ...                                               link\n",
              "0    46199  ...  https://www.goodreads.com/book/show/46199.Lett...\n",
              "1    75506  ...  https://www.goodreads.com/book/show/75506.Coll...\n",
              "2    16802  ...  https://www.goodreads.com/book/show/16802.The_...\n",
              "3    59005  ...  https://www.goodreads.com/book/show/59005.The_...\n",
              "4  1258536  ...  https://www.goodreads.com/book/show/1258536.Po...\n",
              "\n",
              "[5 rows x 4 columns]"
            ]
          },
          "metadata": {
            "tags": []
          }
        },
        {
          "output_type": "stream",
          "text": [
            "\n",
            "\n",
            "We think you might like these books:\n"
          ],
          "name": "stdout"
        },
        {
          "output_type": "display_data",
          "data": {
            "text/html": [
              "<div>\n",
              "<style scoped>\n",
              "    .dataframe tbody tr th:only-of-type {\n",
              "        vertical-align: middle;\n",
              "    }\n",
              "\n",
              "    .dataframe tbody tr th {\n",
              "        vertical-align: top;\n",
              "    }\n",
              "\n",
              "    .dataframe thead th {\n",
              "        text-align: right;\n",
              "    }\n",
              "</style>\n",
              "<table border=\"1\" class=\"dataframe\">\n",
              "  <thead>\n",
              "    <tr style=\"text-align: right;\">\n",
              "      <th></th>\n",
              "      <th>book_id</th>\n",
              "      <th>predicted rating</th>\n",
              "      <th>title</th>\n",
              "      <th>link</th>\n",
              "    </tr>\n",
              "  </thead>\n",
              "  <tbody>\n",
              "    <tr>\n",
              "      <th>0</th>\n",
              "      <td>625802</td>\n",
              "      <td>5.0</td>\n",
              "      <td>Dickinson: Poems</td>\n",
              "      <td>https://www.goodreads.com/book/show/625802.Dic...</td>\n",
              "    </tr>\n",
              "    <tr>\n",
              "      <th>1</th>\n",
              "      <td>11403945</td>\n",
              "      <td>5.0</td>\n",
              "      <td>مجموعة شعرية لأحمد مطر</td>\n",
              "      <td>https://www.goodreads.com/book/show/11403945</td>\n",
              "    </tr>\n",
              "    <tr>\n",
              "      <th>2</th>\n",
              "      <td>330135</td>\n",
              "      <td>5.0</td>\n",
              "      <td>The Collected Works of Oscar Wilde</td>\n",
              "      <td>https://www.goodreads.com/book/show/330135.The...</td>\n",
              "    </tr>\n",
              "    <tr>\n",
              "      <th>3</th>\n",
              "      <td>1383</td>\n",
              "      <td>5.0</td>\n",
              "      <td>The Odyssey</td>\n",
              "      <td>https://www.goodreads.com/book/show/1383.The_O...</td>\n",
              "    </tr>\n",
              "    <tr>\n",
              "      <th>4</th>\n",
              "      <td>428557</td>\n",
              "      <td>5.0</td>\n",
              "      <td>The Yale Shakespeare Complete Works</td>\n",
              "      <td>https://www.goodreads.com/book/show/428557.The...</td>\n",
              "    </tr>\n",
              "  </tbody>\n",
              "</table>\n",
              "</div>"
            ],
            "text/plain": [
              "    book_id  ...                                               link\n",
              "0    625802  ...  https://www.goodreads.com/book/show/625802.Dic...\n",
              "1  11403945  ...       https://www.goodreads.com/book/show/11403945\n",
              "2    330135  ...  https://www.goodreads.com/book/show/330135.The...\n",
              "3      1383  ...  https://www.goodreads.com/book/show/1383.The_O...\n",
              "4    428557  ...  https://www.goodreads.com/book/show/428557.The...\n",
              "\n",
              "[5 rows x 4 columns]"
            ]
          },
          "metadata": {
            "tags": []
          }
        }
      ]
    },
    {
      "cell_type": "markdown",
      "metadata": {
        "id": "XfnB7zGT2Dsy"
      },
      "source": [
        "This user is not very generous with perfect rating. The predicted ratings are correspondingly low, too.\n",
        "\n",
        "Also, looks like this user enjoys reading in Persian (according to our project specialist). Glad to see most of the recommendations are in this language, too!\n",
        "\n",
        "Persian books on Goodreads: https://www.goodreads.com/shelf/show/persian"
      ],
      "id": "XfnB7zGT2Dsy"
    },
    {
      "cell_type": "code",
      "metadata": {
        "id": "idfXNOY2yz9p",
        "colab": {
          "base_uri": "https://localhost:8080/",
          "height": 506
        },
        "outputId": "511a27b3-fc83-44fd-acad-5a3ed33cbed6"
      },
      "source": [
        "get_recommendations(predictions, user_id = '06e8d2ac230f524778cd9c7d04111597', book_df = Books, ratings_df = df, num_recommendations = 5);"
      ],
      "id": "idfXNOY2yz9p",
      "execution_count": 53,
      "outputs": [
        {
          "output_type": "stream",
          "text": [
            "You have rated 321 books in total. The more books you rate, the better recommendations we can offer!\n",
            "\n",
            "\n",
            "You have rated highly for these books:\n"
          ],
          "name": "stdout"
        },
        {
          "output_type": "display_data",
          "data": {
            "text/html": [
              "<div>\n",
              "<style scoped>\n",
              "    .dataframe tbody tr th:only-of-type {\n",
              "        vertical-align: middle;\n",
              "    }\n",
              "\n",
              "    .dataframe tbody tr th {\n",
              "        vertical-align: top;\n",
              "    }\n",
              "\n",
              "    .dataframe thead th {\n",
              "        text-align: right;\n",
              "    }\n",
              "</style>\n",
              "<table border=\"1\" class=\"dataframe\">\n",
              "  <thead>\n",
              "    <tr style=\"text-align: right;\">\n",
              "      <th></th>\n",
              "      <th>book_id</th>\n",
              "      <th>rating</th>\n",
              "      <th>title</th>\n",
              "      <th>link</th>\n",
              "    </tr>\n",
              "  </thead>\n",
              "  <tbody>\n",
              "    <tr>\n",
              "      <th>0</th>\n",
              "      <td>246056</td>\n",
              "      <td>4</td>\n",
              "      <td>The Garden of The Prophet</td>\n",
              "      <td>https://www.goodreads.com/book/show/246056.The...</td>\n",
              "    </tr>\n",
              "    <tr>\n",
              "      <th>1</th>\n",
              "      <td>112204</td>\n",
              "      <td>4</td>\n",
              "      <td>The Complete Poems of Emily Dickinson</td>\n",
              "      <td>https://www.goodreads.com/book/show/112204.The...</td>\n",
              "    </tr>\n",
              "    <tr>\n",
              "      <th>2</th>\n",
              "      <td>11297902</td>\n",
              "      <td>4</td>\n",
              "      <td>قبور واسعة</td>\n",
              "      <td>https://www.goodreads.com/book/show/11297902</td>\n",
              "    </tr>\n",
              "    <tr>\n",
              "      <th>3</th>\n",
              "      <td>10162295</td>\n",
              "      <td>4</td>\n",
              "      <td>مشوار لحد الحيطة</td>\n",
              "      <td>https://www.goodreads.com/book/show/10162295</td>\n",
              "    </tr>\n",
              "    <tr>\n",
              "      <th>4</th>\n",
              "      <td>6378802</td>\n",
              "      <td>4</td>\n",
              "      <td>الشوقيات</td>\n",
              "      <td>https://www.goodreads.com/book/show/6378802</td>\n",
              "    </tr>\n",
              "  </tbody>\n",
              "</table>\n",
              "</div>"
            ],
            "text/plain": [
              "    book_id  ...                                               link\n",
              "0    246056  ...  https://www.goodreads.com/book/show/246056.The...\n",
              "1    112204  ...  https://www.goodreads.com/book/show/112204.The...\n",
              "2  11297902  ...       https://www.goodreads.com/book/show/11297902\n",
              "3  10162295  ...       https://www.goodreads.com/book/show/10162295\n",
              "4   6378802  ...        https://www.goodreads.com/book/show/6378802\n",
              "\n",
              "[5 rows x 4 columns]"
            ]
          },
          "metadata": {
            "tags": []
          }
        },
        {
          "output_type": "stream",
          "text": [
            "\n",
            "\n",
            "We think you might like these books:\n"
          ],
          "name": "stdout"
        },
        {
          "output_type": "display_data",
          "data": {
            "text/html": [
              "<div>\n",
              "<style scoped>\n",
              "    .dataframe tbody tr th:only-of-type {\n",
              "        vertical-align: middle;\n",
              "    }\n",
              "\n",
              "    .dataframe tbody tr th {\n",
              "        vertical-align: top;\n",
              "    }\n",
              "\n",
              "    .dataframe thead th {\n",
              "        text-align: right;\n",
              "    }\n",
              "</style>\n",
              "<table border=\"1\" class=\"dataframe\">\n",
              "  <thead>\n",
              "    <tr style=\"text-align: right;\">\n",
              "      <th></th>\n",
              "      <th>book_id</th>\n",
              "      <th>predicted rating</th>\n",
              "      <th>title</th>\n",
              "      <th>link</th>\n",
              "    </tr>\n",
              "  </thead>\n",
              "  <tbody>\n",
              "    <tr>\n",
              "      <th>0</th>\n",
              "      <td>1559717</td>\n",
              "      <td>4.0</td>\n",
              "      <td>شاهنامه فردوسی</td>\n",
              "      <td>https://www.goodreads.com/book/show/1559717._</td>\n",
              "    </tr>\n",
              "    <tr>\n",
              "      <th>1</th>\n",
              "      <td>230231</td>\n",
              "      <td>4.0</td>\n",
              "      <td>ديوان حافظ</td>\n",
              "      <td>https://www.goodreads.com/book/show/230231._</td>\n",
              "    </tr>\n",
              "    <tr>\n",
              "      <th>2</th>\n",
              "      <td>20660824</td>\n",
              "      <td>3.9</td>\n",
              "      <td>Brown Girl Dreaming</td>\n",
              "      <td>https://www.goodreads.com/book/show/20660824-b...</td>\n",
              "    </tr>\n",
              "    <tr>\n",
              "      <th>3</th>\n",
              "      <td>1499647</td>\n",
              "      <td>3.9</td>\n",
              "      <td>گزیده‌ی غزلیات شمس</td>\n",
              "      <td>https://www.goodreads.com/book/show/1499647._</td>\n",
              "    </tr>\n",
              "    <tr>\n",
              "      <th>4</th>\n",
              "      <td>187434</td>\n",
              "      <td>3.9</td>\n",
              "      <td>Hamlet: Prince of Denmark</td>\n",
              "      <td>https://www.goodreads.com/book/show/187434.Hamlet</td>\n",
              "    </tr>\n",
              "  </tbody>\n",
              "</table>\n",
              "</div>"
            ],
            "text/plain": [
              "    book_id  ...                                               link\n",
              "0   1559717  ...      https://www.goodreads.com/book/show/1559717._\n",
              "1    230231  ...       https://www.goodreads.com/book/show/230231._\n",
              "2  20660824  ...  https://www.goodreads.com/book/show/20660824-b...\n",
              "3   1499647  ...      https://www.goodreads.com/book/show/1499647._\n",
              "4    187434  ...  https://www.goodreads.com/book/show/187434.Hamlet\n",
              "\n",
              "[5 rows x 4 columns]"
            ]
          },
          "metadata": {
            "tags": []
          }
        }
      ]
    },
    {
      "cell_type": "markdown",
      "metadata": {
        "id": "uJ-B34ce26NG"
      },
      "source": [
        "This user has only rated 2 books! Less than `num_recommendations` given.\n",
        "\n",
        "Note:\n",
        "\n",
        "In preprocessing, users who have rated less than 40 books are removed. However, since we also removed books that have been rated for less than 60 time, it could happen that this user has rated 42 books in total, and 40 of them are very unpopular with very few ratings and therefore removed. The filtered data ends up with only 2 rating records from this user."
      ],
      "id": "uJ-B34ce26NG"
    },
    {
      "cell_type": "code",
      "metadata": {
        "id": "LhcVazCIowbR",
        "colab": {
          "base_uri": "https://localhost:8080/",
          "height": 414
        },
        "outputId": "76bd4b5a-0cb4-46b4-ae97-a9b259d0f66c"
      },
      "source": [
        "get_recommendations(predictions, user_id = 'bbefce9424819f90fb3d1f1ec5d28a74', book_df = Books, ratings_df = df, num_recommendations = 5);"
      ],
      "id": "LhcVazCIowbR",
      "execution_count": 54,
      "outputs": [
        {
          "output_type": "stream",
          "text": [
            "You have rated 2 books in total. The more books you rate, the better recommendations we can offer!\n",
            "\n",
            "\n",
            "You have rated highly for these books:\n"
          ],
          "name": "stdout"
        },
        {
          "output_type": "display_data",
          "data": {
            "text/html": [
              "<div>\n",
              "<style scoped>\n",
              "    .dataframe tbody tr th:only-of-type {\n",
              "        vertical-align: middle;\n",
              "    }\n",
              "\n",
              "    .dataframe tbody tr th {\n",
              "        vertical-align: top;\n",
              "    }\n",
              "\n",
              "    .dataframe thead th {\n",
              "        text-align: right;\n",
              "    }\n",
              "</style>\n",
              "<table border=\"1\" class=\"dataframe\">\n",
              "  <thead>\n",
              "    <tr style=\"text-align: right;\">\n",
              "      <th></th>\n",
              "      <th>book_id</th>\n",
              "      <th>rating</th>\n",
              "      <th>title</th>\n",
              "      <th>link</th>\n",
              "    </tr>\n",
              "  </thead>\n",
              "  <tbody>\n",
              "    <tr>\n",
              "      <th>0</th>\n",
              "      <td>70884</td>\n",
              "      <td>5</td>\n",
              "      <td>The Last Night of the Earth Poems</td>\n",
              "      <td>https://www.goodreads.com/book/show/70884.The_...</td>\n",
              "    </tr>\n",
              "    <tr>\n",
              "      <th>1</th>\n",
              "      <td>47730</td>\n",
              "      <td>5</td>\n",
              "      <td>The Complete Poems</td>\n",
              "      <td>https://www.goodreads.com/book/show/47730.The_...</td>\n",
              "    </tr>\n",
              "  </tbody>\n",
              "</table>\n",
              "</div>"
            ],
            "text/plain": [
              "  book_id  ...                                               link\n",
              "0   70884  ...  https://www.goodreads.com/book/show/70884.The_...\n",
              "1   47730  ...  https://www.goodreads.com/book/show/47730.The_...\n",
              "\n",
              "[2 rows x 4 columns]"
            ]
          },
          "metadata": {
            "tags": []
          }
        },
        {
          "output_type": "stream",
          "text": [
            "\n",
            "\n",
            "We think you might like these books:\n"
          ],
          "name": "stdout"
        },
        {
          "output_type": "display_data",
          "data": {
            "text/html": [
              "<div>\n",
              "<style scoped>\n",
              "    .dataframe tbody tr th:only-of-type {\n",
              "        vertical-align: middle;\n",
              "    }\n",
              "\n",
              "    .dataframe tbody tr th {\n",
              "        vertical-align: top;\n",
              "    }\n",
              "\n",
              "    .dataframe thead th {\n",
              "        text-align: right;\n",
              "    }\n",
              "</style>\n",
              "<table border=\"1\" class=\"dataframe\">\n",
              "  <thead>\n",
              "    <tr style=\"text-align: right;\">\n",
              "      <th></th>\n",
              "      <th>book_id</th>\n",
              "      <th>predicted rating</th>\n",
              "      <th>title</th>\n",
              "      <th>link</th>\n",
              "    </tr>\n",
              "  </thead>\n",
              "  <tbody>\n",
              "    <tr>\n",
              "      <th>0</th>\n",
              "      <td>11380377</td>\n",
              "      <td>5.0</td>\n",
              "      <td>كلمات سبارتكوس الأخيرة</td>\n",
              "      <td>https://www.goodreads.com/book/show/11380377</td>\n",
              "    </tr>\n",
              "    <tr>\n",
              "      <th>1</th>\n",
              "      <td>9748346</td>\n",
              "      <td>5.0</td>\n",
              "      <td>الأعمال الكاملة</td>\n",
              "      <td>https://www.goodreads.com/book/show/9748346</td>\n",
              "    </tr>\n",
              "    <tr>\n",
              "      <th>2</th>\n",
              "      <td>187434</td>\n",
              "      <td>5.0</td>\n",
              "      <td>Hamlet: Prince of Denmark</td>\n",
              "      <td>https://www.goodreads.com/book/show/187434.Hamlet</td>\n",
              "    </tr>\n",
              "    <tr>\n",
              "      <th>3</th>\n",
              "      <td>1436</td>\n",
              "      <td>5.0</td>\n",
              "      <td>Hamlet: An Authoritative Text, Intellectual Ba...</td>\n",
              "      <td>https://www.goodreads.com/book/show/1436.Hamlet</td>\n",
              "    </tr>\n",
              "    <tr>\n",
              "      <th>4</th>\n",
              "      <td>6348484</td>\n",
              "      <td>5.0</td>\n",
              "      <td>ديوان المتنبي</td>\n",
              "      <td>https://www.goodreads.com/book/show/6348484</td>\n",
              "    </tr>\n",
              "  </tbody>\n",
              "</table>\n",
              "</div>"
            ],
            "text/plain": [
              "    book_id  ...                                               link\n",
              "0  11380377  ...       https://www.goodreads.com/book/show/11380377\n",
              "1   9748346  ...        https://www.goodreads.com/book/show/9748346\n",
              "2    187434  ...  https://www.goodreads.com/book/show/187434.Hamlet\n",
              "3      1436  ...    https://www.goodreads.com/book/show/1436.Hamlet\n",
              "4   6348484  ...        https://www.goodreads.com/book/show/6348484\n",
              "\n",
              "[5 rows x 4 columns]"
            ]
          },
          "metadata": {
            "tags": []
          }
        }
      ]
    },
    {
      "cell_type": "markdown",
      "metadata": {
        "id": "Jn7cx7zHqxl1"
      },
      "source": [
        "## Test Run for New User\n",
        "\n",
        "One typical problem caused by the data sparsity in SVD-based Collaborative Filtering is the **cold start problem**. As collaborative filtering methods recommend items based on users’ past preferences, new users will need to rate a sufficient number of items to enable the system to capture their preferences accurately, and thus provides reliable recommendations. Similarly, new items also have the same problem.\n",
        "\n",
        "In our recommender system, when a new user wants some books recommended, a list of the most popular books will be returned."
      ],
      "id": "Jn7cx7zHqxl1"
    },
    {
      "cell_type": "code",
      "metadata": {
        "id": "toWQHBAOqwtS",
        "colab": {
          "base_uri": "https://localhost:8080/",
          "height": 219
        },
        "outputId": "4e444635-d32e-46ed-e234-d8dc39477729"
      },
      "source": [
        "get_recommendations(predictions, user_id = 'new_user_20210718', book_df = Books, ratings_df = df, num_recommendations = 5);"
      ],
      "id": "toWQHBAOqwtS",
      "execution_count": 55,
      "outputs": [
        {
          "output_type": "stream",
          "text": [
            "You don't have rating records in our database. Here are some very popular books you might like:\n"
          ],
          "name": "stdout"
        },
        {
          "output_type": "display_data",
          "data": {
            "text/html": [
              "<div>\n",
              "<style scoped>\n",
              "    .dataframe tbody tr th:only-of-type {\n",
              "        vertical-align: middle;\n",
              "    }\n",
              "\n",
              "    .dataframe tbody tr th {\n",
              "        vertical-align: top;\n",
              "    }\n",
              "\n",
              "    .dataframe thead th {\n",
              "        text-align: right;\n",
              "    }\n",
              "</style>\n",
              "<table border=\"1\" class=\"dataframe\">\n",
              "  <thead>\n",
              "    <tr style=\"text-align: right;\">\n",
              "      <th></th>\n",
              "      <th>book_id</th>\n",
              "      <th>title</th>\n",
              "      <th>link</th>\n",
              "    </tr>\n",
              "  </thead>\n",
              "  <tbody>\n",
              "    <tr>\n",
              "      <th>0</th>\n",
              "      <td>1420</td>\n",
              "      <td>Hamlet</td>\n",
              "      <td>https://www.goodreads.com/book/show/1420.Hamlet</td>\n",
              "    </tr>\n",
              "    <tr>\n",
              "      <th>1</th>\n",
              "      <td>1381</td>\n",
              "      <td>The Odyssey</td>\n",
              "      <td>https://www.goodreads.com/book/show/1381.The_O...</td>\n",
              "    </tr>\n",
              "    <tr>\n",
              "      <th>2</th>\n",
              "      <td>30119</td>\n",
              "      <td>Where the Sidewalk Ends</td>\n",
              "      <td>https://www.goodreads.com/book/show/30119.Wher...</td>\n",
              "    </tr>\n",
              "    <tr>\n",
              "      <th>3</th>\n",
              "      <td>112204</td>\n",
              "      <td>The Complete Poems of Emily Dickinson</td>\n",
              "      <td>https://www.goodreads.com/book/show/112204.The...</td>\n",
              "    </tr>\n",
              "    <tr>\n",
              "      <th>4</th>\n",
              "      <td>1371</td>\n",
              "      <td>The Iliad</td>\n",
              "      <td>https://www.goodreads.com/book/show/1371.The_I...</td>\n",
              "    </tr>\n",
              "  </tbody>\n",
              "</table>\n",
              "</div>"
            ],
            "text/plain": [
              "  book_id  ...                                               link\n",
              "0    1420  ...    https://www.goodreads.com/book/show/1420.Hamlet\n",
              "1    1381  ...  https://www.goodreads.com/book/show/1381.The_O...\n",
              "2   30119  ...  https://www.goodreads.com/book/show/30119.Wher...\n",
              "3  112204  ...  https://www.goodreads.com/book/show/112204.The...\n",
              "4    1371  ...  https://www.goodreads.com/book/show/1371.The_I...\n",
              "\n",
              "[5 rows x 3 columns]"
            ]
          },
          "metadata": {
            "tags": []
          }
        }
      ]
    },
    {
      "cell_type": "markdown",
      "metadata": {
        "id": "QVmQDtXfsv-J"
      },
      "source": [
        "## Other Evaluations\n",
        "\n",
        "From cross validation in grid search, we have found the lowest MAE score 0.6259 to build the optimal model.\n",
        "\n",
        "For the full test set (the unknown values from original dataset), we can also generate the RMSE and MAE. Here these losses are calculated against the average rating across the entire dataset."
      ],
      "id": "QVmQDtXfsv-J"
    },
    {
      "cell_type": "code",
      "metadata": {
        "id": "NhGCiklntCKN",
        "colab": {
          "base_uri": "https://localhost:8080/"
        },
        "outputId": "fe7c6250-4350-43c1-ae05-1baa46a0a22d"
      },
      "source": [
        "# RMSE of the full test set\n",
        "accuracy.rmse(predictions);\n",
        "\n",
        "# MAE of the full test set\n",
        "accuracy.mae(predictions);"
      ],
      "id": "NhGCiklntCKN",
      "execution_count": 56,
      "outputs": [
        {
          "output_type": "stream",
          "text": [
            "RMSE: 0.5674\n",
            "MAE:  0.4498\n"
          ],
          "name": "stdout"
        }
      ]
    },
    {
      "cell_type": "markdown",
      "metadata": {
        "id": "W9Ut88D5vzSH"
      },
      "source": [
        "Another ranking-based metric is the Fraction of Concordant Pairs (FCP).\n",
        "\n",
        "Suppose a user has rated n products, then there are n*(n-1)/2 unique pairs of ratings. If book A receives a higher rating than book B from a user and the model predicts the same, A and B are a concordant pair, otherwise a discordant pair. \n",
        "\n",
        "FCP is simply the fraction of concordant pairs among all the pairs (sum over all users), with best score 1 and worst score 0."
      ],
      "id": "W9Ut88D5vzSH"
    },
    {
      "cell_type": "code",
      "metadata": {
        "id": "Bks7ntZFeGZk"
      },
      "source": [
        "# FCP - Fraction of Concordant Pairs, the fraction of pairs whose relative ranking order is correct\n",
        "accuracy.fcp(predictions, verbose = True)"
      ],
      "id": "Bks7ntZFeGZk",
      "execution_count": null,
      "outputs": []
    },
    {
      "cell_type": "markdown",
      "metadata": {
        "id": "MyxcizpjxTLx"
      },
      "source": [
        "The main evaluation of a recommender system is eventually done by tracking the usage.\n",
        "\n",
        "The most important aspect is how many interactions do the recommendations prompt users to perform. Some common metrics include Hit Rate (HR), Average Reciprocal Hit Rate (ARHR), Cumulative Hit Rate (cHR), Rating Hit Rate (rHR).\n",
        "\n",
        "Other evaluation metrics:\n",
        "\n",
        "* Coverage - Measures the ability of the system to recommend long-tail items\n",
        "\n",
        "* Diversity - Measures of how broad or variety of items our Recommender System is putting in front of people\n",
        "\n",
        "* Novelty - Balance between unfamilarity and popularity\n",
        "\n",
        "* Churn - How often do recommendations change with new ratings\n",
        "\n",
        "* Responsiveness - How quickly does new user behavior influence recommendations"
      ],
      "id": "MyxcizpjxTLx"
    },
    {
      "cell_type": "markdown",
      "metadata": {
        "id": "83f058fd"
      },
      "source": [
        "# Conclusion"
      ],
      "id": "83f058fd"
    },
    {
      "cell_type": "markdown",
      "metadata": {
        "id": "hjlFV_-W33nx"
      },
      "source": [
        "This project built a book recommender system based on rating records from www.goodreads.com in the poetry genre using matrix factorization. It can make predictions on all users for all books in the dataset, and recommend a list of popular books for new users. The SVD model and functions can be grouped into a pipeline and used on other rating data.\n",
        "\n",
        "To improve on this recommender system and user experience, the next steps are:\n",
        "\n",
        "* build a hybrid system to enhance recommendations, including demographic filtering, content-based filtering (NLP), ...\n",
        "* build an interactive user interface, where users can input their user id and the system will return a list of recommendations"
      ],
      "id": "hjlFV_-W33nx"
    },
    {
      "cell_type": "markdown",
      "metadata": {
        "id": "dlzTWteRqXm_"
      },
      "source": [
        "# Additional Reference\n",
        "\n",
        "\n",
        "1. Collaborative Filtering: Matrix Factorization Recommender System\n",
        "\n",
        "  https://www.jiristodulka.com/post/recsys_cf/\n",
        "\n",
        "2. Collaborative Filtering using Deep Neural Networks (in Tensorflow)\n",
        "\n",
        "  https://medium.com/@victorkohler/collaborative-filtering-using-deep-neural-networks-in-tensorflow-96e5d41a39a1\n",
        "\n",
        "3. Matrix factorization (recommender systems)\n",
        "\n",
        "  https://en.wikipedia.org/wiki/Matrix_factorization_(recommender_systems)\n",
        "\n",
        "4. Matrix Factorization for Recommendations in Python\n",
        "\n",
        "  https://github.com/beckernick/matrix_factorization_recommenders/blob/master/matrix_factorization_recommender.ipynb\n",
        "\n",
        "5. How does Netflix recommend movies? Matrix Factorization\n",
        "\n",
        "  https://www.youtube.com/watch?v=ZspR5PZemcs\n",
        "\n",
        "6. Mean Absolute Error (MAE) and Root Mean Squared Error (RMSE)\n",
        "\n",
        "  http://www.eumetrain.org/data/4/451/english/msg/ver_cont_var/uos3/uos3_ko1.htm\n",
        "\n",
        "7. How To Run Recommender Systems In Python\n",
        "\n",
        "  https://predictivehacks.com/how-to-run-recommender-systems-in-python/\n",
        "\n",
        "8. Pareto Principle\n",
        "\n",
        "  https://www.investopedia.com/terms/p/paretoprinciple.asp\n",
        "\n",
        "9. Recommender Systems with Python — Part III: Collaborative Filtering (Singular Value Decomposition)\n",
        "\n",
        "  https://heartbeat.fritz.ai/recommender-systems-with-python-part-iii-collaborative-filtering-singular-value-decomposition-5b5dcb3f242b\n",
        "\n",
        "10. Simple Content-based Recommenders\n",
        "\n",
        "  https://www.kaggle.com/liyenhsu/simple-content-based-recommenders"
      ],
      "id": "dlzTWteRqXm_"
    }
  ]
}